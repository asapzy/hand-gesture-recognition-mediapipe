{
  "cells": [
    {
      "cell_type": "code",
      "execution_count": 40,
      "metadata": {
        "id": "igMyGnjE9hEp"
      },
      "outputs": [],
      "source": [
        "import csv\n",
        "\n",
        "import numpy as np\n",
        "import tensorflow as tf\n",
        "from sklearn.model_selection import train_test_split\n",
        "\n",
        "RANDOM_SEED = 42"
      ]
    },
    {
      "cell_type": "markdown",
      "metadata": {
        "id": "t2HDvhIu9hEr"
      },
      "source": [
        "# Specify each path"
      ]
    },
    {
      "cell_type": "code",
      "execution_count": 41,
      "metadata": {
        "id": "9NvZP2Zn9hEy"
      },
      "outputs": [],
      "source": [
        "dataset = 'model/keypoint_classifier/keypoint.csv'\n",
        "model_save_path = 'model/keypoint_classifier/keypoint_classifier.hdf5'\n",
        "tflite_save_path = 'model/keypoint_classifier/keypoint_classifier.tflite'"
      ]
    },
    {
      "cell_type": "markdown",
      "metadata": {
        "id": "s5oMH7x19hEz"
      },
      "source": [
        "# Set number of classes"
      ]
    },
    {
      "cell_type": "code",
      "execution_count": 42,
      "metadata": {
        "id": "du4kodXL9hEz"
      },
      "outputs": [],
      "source": [
        "NUM_CLASSES = 3"
      ]
    },
    {
      "cell_type": "markdown",
      "metadata": {
        "id": "XjnL0uso9hEz"
      },
      "source": [
        "# Dataset reading"
      ]
    },
    {
      "cell_type": "code",
      "execution_count": 43,
      "metadata": {
        "id": "QT5ZqtEz9hE0"
      },
      "outputs": [],
      "source": [
        "X_dataset = np.loadtxt(dataset, delimiter=',', dtype='float32', usecols=list(range(1, (21 * 2) + 1)))"
      ]
    },
    {
      "cell_type": "code",
      "execution_count": 44,
      "metadata": {
        "id": "QmoKFsp49hE0"
      },
      "outputs": [],
      "source": [
        "y_dataset = np.loadtxt(dataset, delimiter=',', dtype='int32', usecols=(0))"
      ]
    },
    {
      "cell_type": "code",
      "execution_count": 45,
      "metadata": {
        "id": "xQU7JTZ_9hE0"
      },
      "outputs": [],
      "source": [
        "X_train, X_test, y_train, y_test = train_test_split(X_dataset, y_dataset, train_size=0.75, random_state=RANDOM_SEED)"
      ]
    },
    {
      "cell_type": "markdown",
      "metadata": {
        "id": "mxK_lETT9hE0"
      },
      "source": [
        "# Model building"
      ]
    },
    {
      "cell_type": "code",
      "execution_count": 46,
      "metadata": {
        "id": "vHBmUf1t9hE1"
      },
      "outputs": [],
      "source": [
        "model = tf.keras.models.Sequential([\n",
        "    tf.keras.layers.Input((21 * 2, )),\n",
        "    tf.keras.layers.Dropout(0.2),\n",
        "    tf.keras.layers.Dense(20, activation='relu'),\n",
        "    tf.keras.layers.Dropout(0.4),\n",
        "    tf.keras.layers.Dense(10, activation='relu'),\n",
        "    tf.keras.layers.Dense(NUM_CLASSES, activation='softmax')\n",
        "])"
      ]
    },
    {
      "cell_type": "code",
      "execution_count": 47,
      "metadata": {
        "colab": {
          "base_uri": "https://localhost:8080/"
        },
        "id": "ypqky9tc9hE1",
        "outputId": "5db082bb-30e3-4110-bf63-a1ee777ecd46"
      },
      "outputs": [
        {
          "name": "stdout",
          "output_type": "stream",
          "text": [
            "Model: \"sequential_2\"\n",
            "_________________________________________________________________\n",
            " Layer (type)                Output Shape              Param #   \n",
            "=================================================================\n",
            " dropout_4 (Dropout)         (None, 42)                0         \n",
            "                                                                 \n",
            " dense_6 (Dense)             (None, 20)                860       \n",
            "                                                                 \n",
            " dropout_5 (Dropout)         (None, 20)                0         \n",
            "                                                                 \n",
            " dense_7 (Dense)             (None, 10)                210       \n",
            "                                                                 \n",
            " dense_8 (Dense)             (None, 3)                 33        \n",
            "                                                                 \n",
            "=================================================================\n",
            "Total params: 1,103\n",
            "Trainable params: 1,103\n",
            "Non-trainable params: 0\n",
            "_________________________________________________________________\n"
          ]
        }
      ],
      "source": [
        "model.summary()  # tf.keras.utils.plot_model(model, show_shapes=True)"
      ]
    },
    {
      "cell_type": "code",
      "execution_count": 48,
      "metadata": {
        "id": "MbMjOflQ9hE1"
      },
      "outputs": [],
      "source": [
        "# Model checkpoint callback\n",
        "cp_callback = tf.keras.callbacks.ModelCheckpoint(\n",
        "    model_save_path, verbose=1, save_weights_only=False)\n",
        "# Callback for early stopping\n",
        "es_callback = tf.keras.callbacks.EarlyStopping(patience=20, verbose=1)"
      ]
    },
    {
      "cell_type": "code",
      "execution_count": 49,
      "metadata": {
        "id": "c3Dac0M_9hE2"
      },
      "outputs": [],
      "source": [
        "# Model compilation\n",
        "model.compile(\n",
        "    optimizer='adam',\n",
        "    loss='sparse_categorical_crossentropy',\n",
        "    metrics=['accuracy']\n",
        ")"
      ]
    },
    {
      "cell_type": "markdown",
      "metadata": {
        "id": "7XI0j1Iu9hE2"
      },
      "source": [
        "# Model training"
      ]
    },
    {
      "cell_type": "code",
      "execution_count": 50,
      "metadata": {
        "colab": {
          "base_uri": "https://localhost:8080/"
        },
        "id": "WirBl-JE9hE3",
        "outputId": "71b30ca2-8294-4d9d-8aa2-800d90d399de",
        "scrolled": true
      },
      "outputs": [
        {
          "name": "stdout",
          "output_type": "stream",
          "text": [
            "Epoch 1/1000\n",
            " 1/19 [>.............................] - ETA: 4s - loss: 1.0930 - accuracy: 0.4062\n",
            "Epoch 1: saving model to model/keypoint_classifier/keypoint_classifier.hdf5\n",
            "19/19 [==============================] - 0s 7ms/step - loss: 0.9874 - accuracy: 0.5269 - val_loss: 0.8021 - val_accuracy: 0.7995\n",
            "Epoch 2/1000\n",
            " 1/19 [>.............................] - ETA: 0s - loss: 0.8780 - accuracy: 0.6328\n",
            "Epoch 2: saving model to model/keypoint_classifier/keypoint_classifier.hdf5\n",
            "19/19 [==============================] - 0s 3ms/step - loss: 0.7851 - accuracy: 0.6949 - val_loss: 0.6045 - val_accuracy: 0.7995\n",
            "Epoch 3/1000\n",
            " 1/19 [>.............................] - ETA: 0s - loss: 0.7081 - accuracy: 0.7422\n",
            "Epoch 3: saving model to model/keypoint_classifier/keypoint_classifier.hdf5\n",
            "19/19 [==============================] - 0s 3ms/step - loss: 0.6213 - accuracy: 0.7845 - val_loss: 0.4502 - val_accuracy: 0.7995\n",
            "Epoch 4/1000\n",
            " 1/19 [>.............................] - ETA: 0s - loss: 0.5376 - accuracy: 0.8359\n",
            "Epoch 4: saving model to model/keypoint_classifier/keypoint_classifier.hdf5\n",
            "19/19 [==============================] - 0s 3ms/step - loss: 0.4793 - accuracy: 0.8506 - val_loss: 0.3254 - val_accuracy: 0.9067\n",
            "Epoch 5/1000\n",
            " 1/19 [>.............................] - ETA: 0s - loss: 0.4236 - accuracy: 0.8750\n",
            "Epoch 5: saving model to model/keypoint_classifier/keypoint_classifier.hdf5\n",
            "19/19 [==============================] - 0s 3ms/step - loss: 0.3746 - accuracy: 0.8927 - val_loss: 0.2252 - val_accuracy: 0.9786\n",
            "Epoch 6/1000\n",
            " 1/19 [>.............................] - ETA: 0s - loss: 0.2949 - accuracy: 0.9297\n",
            "Epoch 6: saving model to model/keypoint_classifier/keypoint_classifier.hdf5\n",
            "19/19 [==============================] - 0s 3ms/step - loss: 0.2933 - accuracy: 0.9335 - val_loss: 0.1502 - val_accuracy: 0.9887\n",
            "Epoch 7/1000\n",
            " 1/19 [>.............................] - ETA: 0s - loss: 0.2405 - accuracy: 0.9375\n",
            "Epoch 7: saving model to model/keypoint_classifier/keypoint_classifier.hdf5\n",
            "19/19 [==============================] - 0s 3ms/step - loss: 0.2281 - accuracy: 0.9520 - val_loss: 0.0991 - val_accuracy: 1.0000\n",
            "Epoch 8/1000\n",
            " 1/19 [>.............................] - ETA: 0s - loss: 0.2028 - accuracy: 0.9453\n",
            "Epoch 8: saving model to model/keypoint_classifier/keypoint_classifier.hdf5\n",
            "19/19 [==============================] - 0s 3ms/step - loss: 0.1878 - accuracy: 0.9566 - val_loss: 0.0681 - val_accuracy: 1.0000\n",
            "Epoch 9/1000\n",
            " 1/19 [>.............................] - ETA: 0s - loss: 0.1903 - accuracy: 0.9531\n",
            "Epoch 9: saving model to model/keypoint_classifier/keypoint_classifier.hdf5\n",
            "19/19 [==============================] - 0s 3ms/step - loss: 0.1464 - accuracy: 0.9697 - val_loss: 0.0468 - val_accuracy: 1.0000\n",
            "Epoch 10/1000\n",
            " 1/19 [>.............................] - ETA: 0s - loss: 0.1325 - accuracy: 0.9688\n",
            "Epoch 10: saving model to model/keypoint_classifier/keypoint_classifier.hdf5\n",
            "19/19 [==============================] - 0s 3ms/step - loss: 0.1262 - accuracy: 0.9735 - val_loss: 0.0322 - val_accuracy: 1.0000\n",
            "Epoch 11/1000\n",
            " 1/19 [>.............................] - ETA: 0s - loss: 0.0844 - accuracy: 0.9922\n",
            "Epoch 11: saving model to model/keypoint_classifier/keypoint_classifier.hdf5\n",
            "19/19 [==============================] - 0s 3ms/step - loss: 0.1093 - accuracy: 0.9777 - val_loss: 0.0235 - val_accuracy: 1.0000\n",
            "Epoch 12/1000\n",
            " 1/19 [>.............................] - ETA: 0s - loss: 0.0636 - accuracy: 0.9922\n",
            "Epoch 12: saving model to model/keypoint_classifier/keypoint_classifier.hdf5\n",
            "19/19 [==============================] - 0s 3ms/step - loss: 0.0948 - accuracy: 0.9769 - val_loss: 0.0181 - val_accuracy: 1.0000\n",
            "Epoch 13/1000\n",
            " 1/19 [>.............................] - ETA: 0s - loss: 0.1286 - accuracy: 0.9609\n",
            "Epoch 13: saving model to model/keypoint_classifier/keypoint_classifier.hdf5\n",
            "19/19 [==============================] - 0s 3ms/step - loss: 0.0820 - accuracy: 0.9794 - val_loss: 0.0133 - val_accuracy: 1.0000\n",
            "Epoch 14/1000\n",
            " 1/19 [>.............................] - ETA: 0s - loss: 0.0794 - accuracy: 0.9766\n",
            "Epoch 14: saving model to model/keypoint_classifier/keypoint_classifier.hdf5\n",
            "19/19 [==============================] - 0s 3ms/step - loss: 0.0677 - accuracy: 0.9832 - val_loss: 0.0096 - val_accuracy: 1.0000\n",
            "Epoch 15/1000\n",
            " 1/19 [>.............................] - ETA: 0s - loss: 0.0697 - accuracy: 0.9844\n",
            "Epoch 15: saving model to model/keypoint_classifier/keypoint_classifier.hdf5\n",
            "19/19 [==============================] - 0s 3ms/step - loss: 0.0722 - accuracy: 0.9811 - val_loss: 0.0076 - val_accuracy: 1.0000\n",
            "Epoch 16/1000\n",
            " 1/19 [>.............................] - ETA: 0s - loss: 0.0521 - accuracy: 0.9922\n",
            "Epoch 16: saving model to model/keypoint_classifier/keypoint_classifier.hdf5\n",
            "19/19 [==============================] - 0s 3ms/step - loss: 0.0549 - accuracy: 0.9891 - val_loss: 0.0059 - val_accuracy: 1.0000\n",
            "Epoch 17/1000\n",
            " 1/19 [>.............................] - ETA: 0s - loss: 0.0404 - accuracy: 1.0000\n",
            "Epoch 17: saving model to model/keypoint_classifier/keypoint_classifier.hdf5\n",
            "19/19 [==============================] - 0s 3ms/step - loss: 0.0511 - accuracy: 0.9891 - val_loss: 0.0045 - val_accuracy: 1.0000\n",
            "Epoch 18/1000\n",
            " 1/19 [>.............................] - ETA: 0s - loss: 0.0833 - accuracy: 0.9688\n",
            "Epoch 18: saving model to model/keypoint_classifier/keypoint_classifier.hdf5\n",
            "19/19 [==============================] - 0s 3ms/step - loss: 0.0481 - accuracy: 0.9865 - val_loss: 0.0034 - val_accuracy: 1.0000\n",
            "Epoch 19/1000\n",
            " 1/19 [>.............................] - ETA: 0s - loss: 0.0830 - accuracy: 0.9609\n",
            "Epoch 19: saving model to model/keypoint_classifier/keypoint_classifier.hdf5\n",
            "19/19 [==============================] - 0s 3ms/step - loss: 0.0486 - accuracy: 0.9857 - val_loss: 0.0027 - val_accuracy: 1.0000\n",
            "Epoch 20/1000\n",
            " 1/19 [>.............................] - ETA: 0s - loss: 0.0474 - accuracy: 0.9688\n",
            "Epoch 20: saving model to model/keypoint_classifier/keypoint_classifier.hdf5\n",
            "19/19 [==============================] - 0s 3ms/step - loss: 0.0441 - accuracy: 0.9874 - val_loss: 0.0020 - val_accuracy: 1.0000\n",
            "Epoch 21/1000\n",
            " 1/19 [>.............................] - ETA: 0s - loss: 0.0440 - accuracy: 0.9844\n",
            "Epoch 21: saving model to model/keypoint_classifier/keypoint_classifier.hdf5\n",
            "19/19 [==============================] - 0s 5ms/step - loss: 0.0408 - accuracy: 0.9882 - val_loss: 0.0016 - val_accuracy: 1.0000\n",
            "Epoch 22/1000\n",
            " 1/19 [>.............................] - ETA: 0s - loss: 0.0568 - accuracy: 0.9844\n",
            "Epoch 22: saving model to model/keypoint_classifier/keypoint_classifier.hdf5\n",
            "19/19 [==============================] - 0s 4ms/step - loss: 0.0383 - accuracy: 0.9874 - val_loss: 0.0013 - val_accuracy: 1.0000\n",
            "Epoch 23/1000\n",
            " 1/19 [>.............................] - ETA: 0s - loss: 0.0425 - accuracy: 0.9766\n",
            "Epoch 23: saving model to model/keypoint_classifier/keypoint_classifier.hdf5\n",
            "19/19 [==============================] - 0s 4ms/step - loss: 0.0403 - accuracy: 0.9878 - val_loss: 0.0011 - val_accuracy: 1.0000\n",
            "Epoch 24/1000\n",
            " 1/19 [>.............................] - ETA: 0s - loss: 0.0485 - accuracy: 0.9766\n",
            "Epoch 24: saving model to model/keypoint_classifier/keypoint_classifier.hdf5\n",
            "19/19 [==============================] - 0s 4ms/step - loss: 0.0364 - accuracy: 0.9916 - val_loss: 9.9384e-04 - val_accuracy: 1.0000\n",
            "Epoch 25/1000\n",
            " 1/19 [>.............................] - ETA: 0s - loss: 0.0444 - accuracy: 0.9922\n",
            "Epoch 25: saving model to model/keypoint_classifier/keypoint_classifier.hdf5\n",
            "19/19 [==============================] - 0s 4ms/step - loss: 0.0277 - accuracy: 0.9924 - val_loss: 8.0166e-04 - val_accuracy: 1.0000\n",
            "Epoch 26/1000\n",
            " 1/19 [>.............................] - ETA: 0s - loss: 0.0509 - accuracy: 0.9922\n",
            "Epoch 26: saving model to model/keypoint_classifier/keypoint_classifier.hdf5\n",
            "19/19 [==============================] - 0s 4ms/step - loss: 0.0323 - accuracy: 0.9907 - val_loss: 6.7043e-04 - val_accuracy: 1.0000\n",
            "Epoch 27/1000\n",
            " 1/19 [>.............................] - ETA: 0s - loss: 0.0447 - accuracy: 0.9844\n",
            "Epoch 27: saving model to model/keypoint_classifier/keypoint_classifier.hdf5\n",
            "19/19 [==============================] - 0s 3ms/step - loss: 0.0314 - accuracy: 0.9903 - val_loss: 5.9742e-04 - val_accuracy: 1.0000\n",
            "Epoch 28/1000\n",
            " 1/19 [>.............................] - ETA: 0s - loss: 0.0110 - accuracy: 1.0000\n",
            "Epoch 28: saving model to model/keypoint_classifier/keypoint_classifier.hdf5\n",
            "19/19 [==============================] - 0s 3ms/step - loss: 0.0287 - accuracy: 0.9920 - val_loss: 5.0564e-04 - val_accuracy: 1.0000\n",
            "Epoch 29/1000\n",
            " 1/19 [>.............................] - ETA: 0s - loss: 0.0206 - accuracy: 0.9922\n",
            "Epoch 29: saving model to model/keypoint_classifier/keypoint_classifier.hdf5\n",
            "19/19 [==============================] - 0s 3ms/step - loss: 0.0257 - accuracy: 0.9941 - val_loss: 4.8463e-04 - val_accuracy: 1.0000\n",
            "Epoch 30/1000\n",
            " 1/19 [>.............................] - ETA: 0s - loss: 0.0264 - accuracy: 0.9922\n",
            "Epoch 30: saving model to model/keypoint_classifier/keypoint_classifier.hdf5\n",
            "19/19 [==============================] - 0s 3ms/step - loss: 0.0271 - accuracy: 0.9933 - val_loss: 4.0765e-04 - val_accuracy: 1.0000\n",
            "Epoch 31/1000\n",
            " 1/19 [>.............................] - ETA: 0s - loss: 0.0435 - accuracy: 0.9922\n",
            "Epoch 31: saving model to model/keypoint_classifier/keypoint_classifier.hdf5\n",
            "19/19 [==============================] - 0s 3ms/step - loss: 0.0261 - accuracy: 0.9916 - val_loss: 3.1498e-04 - val_accuracy: 1.0000\n",
            "Epoch 32/1000\n",
            " 1/19 [>.............................] - ETA: 0s - loss: 0.0164 - accuracy: 0.9922\n",
            "Epoch 32: saving model to model/keypoint_classifier/keypoint_classifier.hdf5\n",
            "19/19 [==============================] - 0s 3ms/step - loss: 0.0241 - accuracy: 0.9924 - val_loss: 2.7654e-04 - val_accuracy: 1.0000\n",
            "Epoch 33/1000\n",
            " 1/19 [>.............................] - ETA: 0s - loss: 0.0340 - accuracy: 0.9844\n",
            "Epoch 33: saving model to model/keypoint_classifier/keypoint_classifier.hdf5\n",
            "19/19 [==============================] - 0s 3ms/step - loss: 0.0220 - accuracy: 0.9933 - val_loss: 2.3822e-04 - val_accuracy: 1.0000\n",
            "Epoch 34/1000\n",
            " 1/19 [>.............................] - ETA: 0s - loss: 0.0098 - accuracy: 1.0000\n",
            "Epoch 34: saving model to model/keypoint_classifier/keypoint_classifier.hdf5\n",
            "19/19 [==============================] - 0s 3ms/step - loss: 0.0224 - accuracy: 0.9941 - val_loss: 2.0653e-04 - val_accuracy: 1.0000\n",
            "Epoch 35/1000\n",
            " 1/19 [>.............................] - ETA: 0s - loss: 0.0224 - accuracy: 0.9844\n",
            "Epoch 35: saving model to model/keypoint_classifier/keypoint_classifier.hdf5\n",
            "19/19 [==============================] - 0s 3ms/step - loss: 0.0217 - accuracy: 0.9941 - val_loss: 1.7177e-04 - val_accuracy: 1.0000\n",
            "Epoch 36/1000\n",
            " 1/19 [>.............................] - ETA: 0s - loss: 0.0041 - accuracy: 1.0000\n",
            "Epoch 36: saving model to model/keypoint_classifier/keypoint_classifier.hdf5\n",
            "19/19 [==============================] - 0s 3ms/step - loss: 0.0245 - accuracy: 0.9924 - val_loss: 1.5773e-04 - val_accuracy: 1.0000\n",
            "Epoch 37/1000\n",
            " 1/19 [>.............................] - ETA: 0s - loss: 0.0255 - accuracy: 0.9922\n",
            "Epoch 37: saving model to model/keypoint_classifier/keypoint_classifier.hdf5\n",
            "19/19 [==============================] - 0s 3ms/step - loss: 0.0223 - accuracy: 0.9941 - val_loss: 1.3623e-04 - val_accuracy: 1.0000\n",
            "Epoch 38/1000\n",
            " 1/19 [>.............................] - ETA: 0s - loss: 0.0070 - accuracy: 1.0000\n",
            "Epoch 38: saving model to model/keypoint_classifier/keypoint_classifier.hdf5\n",
            "19/19 [==============================] - 0s 3ms/step - loss: 0.0242 - accuracy: 0.9937 - val_loss: 1.2397e-04 - val_accuracy: 1.0000\n",
            "Epoch 39/1000\n",
            " 1/19 [>.............................] - ETA: 0s - loss: 0.0167 - accuracy: 0.9922\n",
            "Epoch 39: saving model to model/keypoint_classifier/keypoint_classifier.hdf5\n",
            "19/19 [==============================] - 0s 3ms/step - loss: 0.0242 - accuracy: 0.9920 - val_loss: 1.3408e-04 - val_accuracy: 1.0000\n",
            "Epoch 40/1000\n",
            " 1/19 [>.............................] - ETA: 0s - loss: 0.0291 - accuracy: 0.9844\n",
            "Epoch 40: saving model to model/keypoint_classifier/keypoint_classifier.hdf5\n",
            "19/19 [==============================] - 0s 3ms/step - loss: 0.0210 - accuracy: 0.9924 - val_loss: 1.2068e-04 - val_accuracy: 1.0000\n",
            "Epoch 41/1000\n",
            " 1/19 [>.............................] - ETA: 0s - loss: 0.0176 - accuracy: 0.9922\n",
            "Epoch 41: saving model to model/keypoint_classifier/keypoint_classifier.hdf5\n",
            "19/19 [==============================] - 0s 4ms/step - loss: 0.0174 - accuracy: 0.9958 - val_loss: 1.1001e-04 - val_accuracy: 1.0000\n",
            "Epoch 42/1000\n",
            " 1/19 [>.............................] - ETA: 0s - loss: 0.0226 - accuracy: 1.0000\n",
            "Epoch 42: saving model to model/keypoint_classifier/keypoint_classifier.hdf5\n",
            "19/19 [==============================] - 0s 3ms/step - loss: 0.0191 - accuracy: 0.9949 - val_loss: 1.0059e-04 - val_accuracy: 1.0000\n",
            "Epoch 43/1000\n",
            " 1/19 [>.............................] - ETA: 0s - loss: 0.0416 - accuracy: 0.9766\n",
            "Epoch 43: saving model to model/keypoint_classifier/keypoint_classifier.hdf5\n",
            "19/19 [==============================] - 0s 3ms/step - loss: 0.0163 - accuracy: 0.9945 - val_loss: 8.8814e-05 - val_accuracy: 1.0000\n",
            "Epoch 44/1000\n",
            " 1/19 [>.............................] - ETA: 0s - loss: 0.0192 - accuracy: 0.9922\n",
            "Epoch 44: saving model to model/keypoint_classifier/keypoint_classifier.hdf5\n",
            "19/19 [==============================] - 0s 3ms/step - loss: 0.0136 - accuracy: 0.9966 - val_loss: 7.6377e-05 - val_accuracy: 1.0000\n",
            "Epoch 45/1000\n",
            " 1/19 [>.............................] - ETA: 0s - loss: 0.0187 - accuracy: 0.9922\n",
            "Epoch 45: saving model to model/keypoint_classifier/keypoint_classifier.hdf5\n",
            "19/19 [==============================] - 0s 3ms/step - loss: 0.0201 - accuracy: 0.9933 - val_loss: 6.5461e-05 - val_accuracy: 1.0000\n",
            "Epoch 46/1000\n",
            " 1/19 [>.............................] - ETA: 0s - loss: 0.0092 - accuracy: 1.0000\n",
            "Epoch 46: saving model to model/keypoint_classifier/keypoint_classifier.hdf5\n",
            "19/19 [==============================] - 0s 3ms/step - loss: 0.0161 - accuracy: 0.9958 - val_loss: 6.2708e-05 - val_accuracy: 1.0000\n",
            "Epoch 47/1000\n",
            " 1/19 [>.............................] - ETA: 0s - loss: 0.0094 - accuracy: 1.0000\n",
            "Epoch 47: saving model to model/keypoint_classifier/keypoint_classifier.hdf5\n",
            "19/19 [==============================] - 0s 3ms/step - loss: 0.0149 - accuracy: 0.9962 - val_loss: 5.5003e-05 - val_accuracy: 1.0000\n",
            "Epoch 48/1000\n",
            " 1/19 [>.............................] - ETA: 0s - loss: 0.0055 - accuracy: 1.0000\n",
            "Epoch 48: saving model to model/keypoint_classifier/keypoint_classifier.hdf5\n",
            "19/19 [==============================] - 0s 3ms/step - loss: 0.0207 - accuracy: 0.9945 - val_loss: 5.7164e-05 - val_accuracy: 1.0000\n",
            "Epoch 49/1000\n",
            " 1/19 [>.............................] - ETA: 0s - loss: 0.0187 - accuracy: 0.9922\n",
            "Epoch 49: saving model to model/keypoint_classifier/keypoint_classifier.hdf5\n",
            "19/19 [==============================] - 0s 3ms/step - loss: 0.0164 - accuracy: 0.9954 - val_loss: 5.0013e-05 - val_accuracy: 1.0000\n",
            "Epoch 50/1000\n",
            " 1/19 [>.............................] - ETA: 0s - loss: 0.0111 - accuracy: 1.0000\n",
            "Epoch 50: saving model to model/keypoint_classifier/keypoint_classifier.hdf5\n",
            "19/19 [==============================] - 0s 3ms/step - loss: 0.0128 - accuracy: 0.9971 - val_loss: 4.2251e-05 - val_accuracy: 1.0000\n",
            "Epoch 51/1000\n",
            " 1/19 [>.............................] - ETA: 0s - loss: 0.0089 - accuracy: 1.0000\n",
            "Epoch 51: saving model to model/keypoint_classifier/keypoint_classifier.hdf5\n",
            "19/19 [==============================] - 0s 3ms/step - loss: 0.0141 - accuracy: 0.9966 - val_loss: 3.7744e-05 - val_accuracy: 1.0000\n",
            "Epoch 52/1000\n",
            " 1/19 [>.............................] - ETA: 0s - loss: 0.0083 - accuracy: 1.0000\n",
            "Epoch 52: saving model to model/keypoint_classifier/keypoint_classifier.hdf5\n",
            "19/19 [==============================] - 0s 3ms/step - loss: 0.0177 - accuracy: 0.9945 - val_loss: 3.5323e-05 - val_accuracy: 1.0000\n",
            "Epoch 53/1000\n",
            " 1/19 [>.............................] - ETA: 0s - loss: 0.0088 - accuracy: 1.0000\n",
            "Epoch 53: saving model to model/keypoint_classifier/keypoint_classifier.hdf5\n",
            "19/19 [==============================] - 0s 3ms/step - loss: 0.0114 - accuracy: 0.9975 - val_loss: 3.1622e-05 - val_accuracy: 1.0000\n",
            "Epoch 54/1000\n",
            " 1/19 [>.............................] - ETA: 0s - loss: 0.0068 - accuracy: 1.0000\n",
            "Epoch 54: saving model to model/keypoint_classifier/keypoint_classifier.hdf5\n",
            "19/19 [==============================] - 0s 3ms/step - loss: 0.0086 - accuracy: 0.9987 - val_loss: 2.7398e-05 - val_accuracy: 1.0000\n",
            "Epoch 55/1000\n",
            " 1/19 [>.............................] - ETA: 0s - loss: 0.0175 - accuracy: 0.9922\n",
            "Epoch 55: saving model to model/keypoint_classifier/keypoint_classifier.hdf5\n",
            "19/19 [==============================] - 0s 3ms/step - loss: 0.0164 - accuracy: 0.9962 - val_loss: 2.3367e-05 - val_accuracy: 1.0000\n",
            "Epoch 56/1000\n",
            " 1/19 [>.............................] - ETA: 0s - loss: 0.0222 - accuracy: 0.9922\n",
            "Epoch 56: saving model to model/keypoint_classifier/keypoint_classifier.hdf5\n",
            "19/19 [==============================] - 0s 3ms/step - loss: 0.0151 - accuracy: 0.9958 - val_loss: 2.2686e-05 - val_accuracy: 1.0000\n",
            "Epoch 57/1000\n",
            " 1/19 [>.............................] - ETA: 0s - loss: 0.0041 - accuracy: 1.0000\n",
            "Epoch 57: saving model to model/keypoint_classifier/keypoint_classifier.hdf5\n",
            "19/19 [==============================] - 0s 3ms/step - loss: 0.0148 - accuracy: 0.9958 - val_loss: 2.2513e-05 - val_accuracy: 1.0000\n",
            "Epoch 58/1000\n",
            " 1/19 [>.............................] - ETA: 0s - loss: 0.0139 - accuracy: 1.0000\n",
            "Epoch 58: saving model to model/keypoint_classifier/keypoint_classifier.hdf5\n",
            "19/19 [==============================] - 0s 3ms/step - loss: 0.0152 - accuracy: 0.9949 - val_loss: 2.1330e-05 - val_accuracy: 1.0000\n",
            "Epoch 59/1000\n",
            " 1/19 [>.............................] - ETA: 0s - loss: 0.0213 - accuracy: 0.9844\n",
            "Epoch 59: saving model to model/keypoint_classifier/keypoint_classifier.hdf5\n",
            "19/19 [==============================] - 0s 3ms/step - loss: 0.0109 - accuracy: 0.9971 - val_loss: 1.8912e-05 - val_accuracy: 1.0000\n",
            "Epoch 60/1000\n",
            " 1/19 [>.............................] - ETA: 0s - loss: 0.0259 - accuracy: 0.9922\n",
            "Epoch 60: saving model to model/keypoint_classifier/keypoint_classifier.hdf5\n",
            "19/19 [==============================] - 0s 3ms/step - loss: 0.0146 - accuracy: 0.9962 - val_loss: 2.2566e-05 - val_accuracy: 1.0000\n",
            "Epoch 61/1000\n",
            " 1/19 [>.............................] - ETA: 0s - loss: 0.0067 - accuracy: 1.0000\n",
            "Epoch 61: saving model to model/keypoint_classifier/keypoint_classifier.hdf5\n",
            "19/19 [==============================] - 0s 3ms/step - loss: 0.0115 - accuracy: 0.9958 - val_loss: 2.1368e-05 - val_accuracy: 1.0000\n",
            "Epoch 62/1000\n",
            " 1/19 [>.............................] - ETA: 0s - loss: 0.0082 - accuracy: 1.0000\n",
            "Epoch 62: saving model to model/keypoint_classifier/keypoint_classifier.hdf5\n",
            "19/19 [==============================] - 0s 3ms/step - loss: 0.0127 - accuracy: 0.9971 - val_loss: 1.8224e-05 - val_accuracy: 1.0000\n",
            "Epoch 63/1000\n",
            " 1/19 [>.............................] - ETA: 0s - loss: 0.0089 - accuracy: 1.0000\n",
            "Epoch 63: saving model to model/keypoint_classifier/keypoint_classifier.hdf5\n",
            "19/19 [==============================] - 0s 3ms/step - loss: 0.0150 - accuracy: 0.9962 - val_loss: 1.7755e-05 - val_accuracy: 1.0000\n",
            "Epoch 64/1000\n",
            " 1/19 [>.............................] - ETA: 0s - loss: 0.0059 - accuracy: 1.0000\n",
            "Epoch 64: saving model to model/keypoint_classifier/keypoint_classifier.hdf5\n",
            "19/19 [==============================] - 0s 3ms/step - loss: 0.0101 - accuracy: 0.9987 - val_loss: 1.4814e-05 - val_accuracy: 1.0000\n",
            "Epoch 65/1000\n",
            " 1/19 [>.............................] - ETA: 0s - loss: 0.0086 - accuracy: 1.0000\n",
            "Epoch 65: saving model to model/keypoint_classifier/keypoint_classifier.hdf5\n",
            "19/19 [==============================] - 0s 3ms/step - loss: 0.0102 - accuracy: 0.9979 - val_loss: 1.3428e-05 - val_accuracy: 1.0000\n",
            "Epoch 66/1000\n",
            " 1/19 [>.............................] - ETA: 0s - loss: 0.0100 - accuracy: 0.9922\n",
            "Epoch 66: saving model to model/keypoint_classifier/keypoint_classifier.hdf5\n",
            "19/19 [==============================] - 0s 3ms/step - loss: 0.0130 - accuracy: 0.9962 - val_loss: 1.4566e-05 - val_accuracy: 1.0000\n",
            "Epoch 67/1000\n",
            " 1/19 [>.............................] - ETA: 0s - loss: 0.0029 - accuracy: 1.0000\n",
            "Epoch 67: saving model to model/keypoint_classifier/keypoint_classifier.hdf5\n",
            "19/19 [==============================] - 0s 3ms/step - loss: 0.0185 - accuracy: 0.9949 - val_loss: 1.5782e-05 - val_accuracy: 1.0000\n",
            "Epoch 68/1000\n",
            " 1/19 [>.............................] - ETA: 0s - loss: 0.0212 - accuracy: 1.0000\n",
            "Epoch 68: saving model to model/keypoint_classifier/keypoint_classifier.hdf5\n",
            "19/19 [==============================] - 0s 3ms/step - loss: 0.0108 - accuracy: 0.9975 - val_loss: 2.0353e-05 - val_accuracy: 1.0000\n",
            "Epoch 69/1000\n",
            " 1/19 [>.............................] - ETA: 0s - loss: 0.0085 - accuracy: 1.0000\n",
            "Epoch 69: saving model to model/keypoint_classifier/keypoint_classifier.hdf5\n",
            "19/19 [==============================] - 0s 3ms/step - loss: 0.0185 - accuracy: 0.9941 - val_loss: 1.5857e-05 - val_accuracy: 1.0000\n",
            "Epoch 70/1000\n",
            " 1/19 [>.............................] - ETA: 0s - loss: 0.0220 - accuracy: 0.9922\n",
            "Epoch 70: saving model to model/keypoint_classifier/keypoint_classifier.hdf5\n",
            "19/19 [==============================] - 0s 3ms/step - loss: 0.0146 - accuracy: 0.9949 - val_loss: 1.1838e-05 - val_accuracy: 1.0000\n",
            "Epoch 71/1000\n",
            " 1/19 [>.............................] - ETA: 0s - loss: 0.0110 - accuracy: 1.0000\n",
            "Epoch 71: saving model to model/keypoint_classifier/keypoint_classifier.hdf5\n",
            "19/19 [==============================] - 0s 3ms/step - loss: 0.0098 - accuracy: 0.9966 - val_loss: 1.0533e-05 - val_accuracy: 1.0000\n",
            "Epoch 72/1000\n",
            " 1/19 [>.............................] - ETA: 0s - loss: 0.0063 - accuracy: 1.0000\n",
            "Epoch 72: saving model to model/keypoint_classifier/keypoint_classifier.hdf5\n",
            "19/19 [==============================] - 0s 3ms/step - loss: 0.0128 - accuracy: 0.9966 - val_loss: 1.0535e-05 - val_accuracy: 1.0000\n",
            "Epoch 73/1000\n",
            " 1/19 [>.............................] - ETA: 0s - loss: 0.0396 - accuracy: 0.9844\n",
            "Epoch 73: saving model to model/keypoint_classifier/keypoint_classifier.hdf5\n",
            "19/19 [==============================] - 0s 3ms/step - loss: 0.0118 - accuracy: 0.9966 - val_loss: 1.0078e-05 - val_accuracy: 1.0000\n",
            "Epoch 74/1000\n",
            " 1/19 [>.............................] - ETA: 0s - loss: 0.0226 - accuracy: 0.9922\n",
            "Epoch 74: saving model to model/keypoint_classifier/keypoint_classifier.hdf5\n",
            "19/19 [==============================] - 0s 3ms/step - loss: 0.0115 - accuracy: 0.9966 - val_loss: 1.0184e-05 - val_accuracy: 1.0000\n",
            "Epoch 75/1000\n",
            " 1/19 [>.............................] - ETA: 0s - loss: 0.0034 - accuracy: 1.0000\n",
            "Epoch 75: saving model to model/keypoint_classifier/keypoint_classifier.hdf5\n",
            "19/19 [==============================] - 0s 3ms/step - loss: 0.0124 - accuracy: 0.9966 - val_loss: 1.0465e-05 - val_accuracy: 1.0000\n",
            "Epoch 76/1000\n",
            " 1/19 [>.............................] - ETA: 0s - loss: 0.0044 - accuracy: 1.0000\n",
            "Epoch 76: saving model to model/keypoint_classifier/keypoint_classifier.hdf5\n",
            "19/19 [==============================] - 0s 3ms/step - loss: 0.0152 - accuracy: 0.9949 - val_loss: 1.1872e-05 - val_accuracy: 1.0000\n",
            "Epoch 77/1000\n",
            " 1/19 [>.............................] - ETA: 0s - loss: 0.0028 - accuracy: 1.0000\n",
            "Epoch 77: saving model to model/keypoint_classifier/keypoint_classifier.hdf5\n",
            "19/19 [==============================] - 0s 3ms/step - loss: 0.0131 - accuracy: 0.9958 - val_loss: 1.2961e-05 - val_accuracy: 1.0000\n",
            "Epoch 78/1000\n",
            " 1/19 [>.............................] - ETA: 0s - loss: 9.7364e-04 - accuracy: 1.0000\n",
            "Epoch 78: saving model to model/keypoint_classifier/keypoint_classifier.hdf5\n",
            "19/19 [==============================] - 0s 3ms/step - loss: 0.0109 - accuracy: 0.9975 - val_loss: 1.2079e-05 - val_accuracy: 1.0000\n",
            "Epoch 79/1000\n",
            " 1/19 [>.............................] - ETA: 0s - loss: 0.0044 - accuracy: 1.0000\n",
            "Epoch 79: saving model to model/keypoint_classifier/keypoint_classifier.hdf5\n",
            "19/19 [==============================] - 0s 3ms/step - loss: 0.0108 - accuracy: 0.9975 - val_loss: 1.1206e-05 - val_accuracy: 1.0000\n",
            "Epoch 80/1000\n",
            " 1/19 [>.............................] - ETA: 0s - loss: 0.0163 - accuracy: 0.9922\n",
            "Epoch 80: saving model to model/keypoint_classifier/keypoint_classifier.hdf5\n",
            "19/19 [==============================] - 0s 3ms/step - loss: 0.0107 - accuracy: 0.9971 - val_loss: 1.1185e-05 - val_accuracy: 1.0000\n",
            "Epoch 81/1000\n",
            " 1/19 [>.............................] - ETA: 0s - loss: 0.0151 - accuracy: 0.9922\n",
            "Epoch 81: saving model to model/keypoint_classifier/keypoint_classifier.hdf5\n",
            "19/19 [==============================] - 0s 3ms/step - loss: 0.0103 - accuracy: 0.9966 - val_loss: 1.0762e-05 - val_accuracy: 1.0000\n",
            "Epoch 82/1000\n",
            " 1/19 [>.............................] - ETA: 0s - loss: 0.0033 - accuracy: 1.0000\n",
            "Epoch 82: saving model to model/keypoint_classifier/keypoint_classifier.hdf5\n",
            "19/19 [==============================] - 0s 3ms/step - loss: 0.0067 - accuracy: 0.9992 - val_loss: 1.1729e-05 - val_accuracy: 1.0000\n",
            "Epoch 83/1000\n",
            " 1/19 [>.............................] - ETA: 0s - loss: 0.0018 - accuracy: 1.0000\n",
            "Epoch 83: saving model to model/keypoint_classifier/keypoint_classifier.hdf5\n",
            "19/19 [==============================] - 0s 3ms/step - loss: 0.0094 - accuracy: 0.9966 - val_loss: 9.9309e-06 - val_accuracy: 1.0000\n",
            "Epoch 84/1000\n",
            " 1/19 [>.............................] - ETA: 0s - loss: 0.0087 - accuracy: 0.9922\n",
            "Epoch 84: saving model to model/keypoint_classifier/keypoint_classifier.hdf5\n",
            "19/19 [==============================] - 0s 3ms/step - loss: 0.0089 - accuracy: 0.9966 - val_loss: 8.1450e-06 - val_accuracy: 1.0000\n",
            "Epoch 85/1000\n",
            " 1/19 [>.............................] - ETA: 0s - loss: 0.0013 - accuracy: 1.0000\n",
            "Epoch 85: saving model to model/keypoint_classifier/keypoint_classifier.hdf5\n",
            "19/19 [==============================] - 0s 3ms/step - loss: 0.0157 - accuracy: 0.9945 - val_loss: 6.9072e-06 - val_accuracy: 1.0000\n",
            "Epoch 86/1000\n",
            " 1/19 [>.............................] - ETA: 0s - loss: 0.0029 - accuracy: 1.0000\n",
            "Epoch 86: saving model to model/keypoint_classifier/keypoint_classifier.hdf5\n",
            "19/19 [==============================] - 0s 3ms/step - loss: 0.0056 - accuracy: 0.9992 - val_loss: 6.6255e-06 - val_accuracy: 1.0000\n",
            "Epoch 87/1000\n",
            " 1/19 [>.............................] - ETA: 0s - loss: 0.0153 - accuracy: 0.9922\n",
            "Epoch 87: saving model to model/keypoint_classifier/keypoint_classifier.hdf5\n",
            "19/19 [==============================] - 0s 3ms/step - loss: 0.0096 - accuracy: 0.9975 - val_loss: 5.9914e-06 - val_accuracy: 1.0000\n",
            "Epoch 88/1000\n",
            " 1/19 [>.............................] - ETA: 0s - loss: 0.0080 - accuracy: 1.0000\n",
            "Epoch 88: saving model to model/keypoint_classifier/keypoint_classifier.hdf5\n",
            "19/19 [==============================] - 0s 4ms/step - loss: 0.0054 - accuracy: 0.9992 - val_loss: 5.9600e-06 - val_accuracy: 1.0000\n",
            "Epoch 89/1000\n",
            " 1/19 [>.............................] - ETA: 0s - loss: 0.0100 - accuracy: 1.0000\n",
            "Epoch 89: saving model to model/keypoint_classifier/keypoint_classifier.hdf5\n",
            "19/19 [==============================] - 0s 4ms/step - loss: 0.0104 - accuracy: 0.9971 - val_loss: 5.1823e-06 - val_accuracy: 1.0000\n",
            "Epoch 90/1000\n",
            " 1/19 [>.............................] - ETA: 0s - loss: 0.0224 - accuracy: 0.9922\n",
            "Epoch 90: saving model to model/keypoint_classifier/keypoint_classifier.hdf5\n",
            "19/19 [==============================] - 0s 5ms/step - loss: 0.0137 - accuracy: 0.9954 - val_loss: 5.7669e-06 - val_accuracy: 1.0000\n",
            "Epoch 91/1000\n",
            " 1/19 [>.............................] - ETA: 0s - loss: 0.0148 - accuracy: 0.9922\n",
            "Epoch 91: saving model to model/keypoint_classifier/keypoint_classifier.hdf5\n",
            "19/19 [==============================] - 0s 3ms/step - loss: 0.0127 - accuracy: 0.9962 - val_loss: 6.6248e-06 - val_accuracy: 1.0000\n",
            "Epoch 92/1000\n",
            " 1/19 [>.............................] - ETA: 0s - loss: 0.0021 - accuracy: 1.0000\n",
            "Epoch 92: saving model to model/keypoint_classifier/keypoint_classifier.hdf5\n",
            "19/19 [==============================] - 0s 3ms/step - loss: 0.0114 - accuracy: 0.9954 - val_loss: 5.9921e-06 - val_accuracy: 1.0000\n",
            "Epoch 93/1000\n",
            " 1/19 [>.............................] - ETA: 0s - loss: 0.0093 - accuracy: 1.0000\n",
            "Epoch 93: saving model to model/keypoint_classifier/keypoint_classifier.hdf5\n",
            "19/19 [==============================] - 0s 3ms/step - loss: 0.0085 - accuracy: 0.9971 - val_loss: 5.5520e-06 - val_accuracy: 1.0000\n",
            "Epoch 94/1000\n",
            " 1/19 [>.............................] - ETA: 0s - loss: 0.0012 - accuracy: 1.0000\n",
            "Epoch 94: saving model to model/keypoint_classifier/keypoint_classifier.hdf5\n",
            "19/19 [==============================] - 0s 3ms/step - loss: 0.0171 - accuracy: 0.9941 - val_loss: 5.0773e-06 - val_accuracy: 1.0000\n",
            "Epoch 95/1000\n",
            " 1/19 [>.............................] - ETA: 0s - loss: 0.0018 - accuracy: 1.0000\n",
            "Epoch 95: saving model to model/keypoint_classifier/keypoint_classifier.hdf5\n",
            "19/19 [==============================] - 0s 4ms/step - loss: 0.0064 - accuracy: 0.9987 - val_loss: 4.9004e-06 - val_accuracy: 1.0000\n",
            "Epoch 96/1000\n",
            " 1/19 [>.............................] - ETA: 0s - loss: 0.0040 - accuracy: 1.0000\n",
            "Epoch 96: saving model to model/keypoint_classifier/keypoint_classifier.hdf5\n",
            "19/19 [==============================] - 0s 4ms/step - loss: 0.0078 - accuracy: 0.9975 - val_loss: 4.6416e-06 - val_accuracy: 1.0000\n",
            "Epoch 97/1000\n",
            " 1/19 [>.............................] - ETA: 0s - loss: 0.0044 - accuracy: 1.0000\n",
            "Epoch 97: saving model to model/keypoint_classifier/keypoint_classifier.hdf5\n",
            "19/19 [==============================] - 0s 4ms/step - loss: 0.0097 - accuracy: 0.9979 - val_loss: 4.7901e-06 - val_accuracy: 1.0000\n",
            "Epoch 98/1000\n",
            " 1/19 [>.............................] - ETA: 0s - loss: 0.0051 - accuracy: 1.0000\n",
            "Epoch 98: saving model to model/keypoint_classifier/keypoint_classifier.hdf5\n",
            "19/19 [==============================] - 0s 4ms/step - loss: 0.0062 - accuracy: 0.9979 - val_loss: 4.8606e-06 - val_accuracy: 1.0000\n",
            "Epoch 99/1000\n",
            " 1/19 [>.............................] - ETA: 0s - loss: 0.0154 - accuracy: 0.9922\n",
            "Epoch 99: saving model to model/keypoint_classifier/keypoint_classifier.hdf5\n",
            "19/19 [==============================] - 0s 4ms/step - loss: 0.0083 - accuracy: 0.9975 - val_loss: 4.3030e-06 - val_accuracy: 1.0000\n",
            "Epoch 100/1000\n",
            " 1/19 [>.............................] - ETA: 0s - loss: 0.0144 - accuracy: 0.9922\n",
            "Epoch 100: saving model to model/keypoint_classifier/keypoint_classifier.hdf5\n",
            "19/19 [==============================] - 0s 4ms/step - loss: 0.0086 - accuracy: 0.9966 - val_loss: 3.7897e-06 - val_accuracy: 1.0000\n",
            "Epoch 101/1000\n",
            " 1/19 [>.............................] - ETA: 0s - loss: 0.0021 - accuracy: 1.0000\n",
            "Epoch 101: saving model to model/keypoint_classifier/keypoint_classifier.hdf5\n",
            "19/19 [==============================] - 0s 3ms/step - loss: 0.0116 - accuracy: 0.9962 - val_loss: 3.1915e-06 - val_accuracy: 1.0000\n",
            "Epoch 102/1000\n",
            " 1/19 [>.............................] - ETA: 0s - loss: 0.0021 - accuracy: 1.0000\n",
            "Epoch 102: saving model to model/keypoint_classifier/keypoint_classifier.hdf5\n",
            "19/19 [==============================] - 0s 4ms/step - loss: 0.0068 - accuracy: 0.9983 - val_loss: 3.5131e-06 - val_accuracy: 1.0000\n",
            "Epoch 103/1000\n",
            " 1/19 [>.............................] - ETA: 0s - loss: 0.0041 - accuracy: 1.0000\n",
            "Epoch 103: saving model to model/keypoint_classifier/keypoint_classifier.hdf5\n",
            "19/19 [==============================] - 0s 4ms/step - loss: 0.0100 - accuracy: 0.9966 - val_loss: 4.2639e-06 - val_accuracy: 1.0000\n",
            "Epoch 104/1000\n",
            " 1/19 [>.............................] - ETA: 0s - loss: 0.0045 - accuracy: 1.0000\n",
            "Epoch 104: saving model to model/keypoint_classifier/keypoint_classifier.hdf5\n",
            "19/19 [==============================] - 0s 4ms/step - loss: 0.0078 - accuracy: 0.9975 - val_loss: 4.3177e-06 - val_accuracy: 1.0000\n",
            "Epoch 105/1000\n",
            " 1/19 [>.............................] - ETA: 0s - loss: 0.0010 - accuracy: 1.0000\n",
            "Epoch 105: saving model to model/keypoint_classifier/keypoint_classifier.hdf5\n",
            "19/19 [==============================] - 0s 4ms/step - loss: 0.0103 - accuracy: 0.9971 - val_loss: 3.0774e-06 - val_accuracy: 1.0000\n",
            "Epoch 106/1000\n",
            " 1/19 [>.............................] - ETA: 0s - loss: 0.0027 - accuracy: 1.0000\n",
            "Epoch 106: saving model to model/keypoint_classifier/keypoint_classifier.hdf5\n",
            "19/19 [==============================] - 0s 4ms/step - loss: 0.0096 - accuracy: 0.9975 - val_loss: 3.3527e-06 - val_accuracy: 1.0000\n",
            "Epoch 107/1000\n",
            " 1/19 [>.............................] - ETA: 0s - loss: 0.0124 - accuracy: 0.9922\n",
            "Epoch 107: saving model to model/keypoint_classifier/keypoint_classifier.hdf5\n",
            "19/19 [==============================] - 0s 4ms/step - loss: 0.0077 - accuracy: 0.9971 - val_loss: 3.7419e-06 - val_accuracy: 1.0000\n",
            "Epoch 108/1000\n",
            " 1/19 [>.............................] - ETA: 0s - loss: 0.0012 - accuracy: 1.0000\n",
            "Epoch 108: saving model to model/keypoint_classifier/keypoint_classifier.hdf5\n",
            "19/19 [==============================] - 0s 4ms/step - loss: 0.0068 - accuracy: 0.9983 - val_loss: 2.8169e-06 - val_accuracy: 1.0000\n",
            "Epoch 109/1000\n",
            " 1/19 [>.............................] - ETA: 0s - loss: 0.0144 - accuracy: 0.9922\n",
            "Epoch 109: saving model to model/keypoint_classifier/keypoint_classifier.hdf5\n",
            "19/19 [==============================] - 0s 4ms/step - loss: 0.0083 - accuracy: 0.9966 - val_loss: 2.6741e-06 - val_accuracy: 1.0000\n",
            "Epoch 110/1000\n",
            " 1/19 [>.............................] - ETA: 0s - loss: 0.0482 - accuracy: 0.9766\n",
            "Epoch 110: saving model to model/keypoint_classifier/keypoint_classifier.hdf5\n",
            "19/19 [==============================] - 0s 4ms/step - loss: 0.0099 - accuracy: 0.9958 - val_loss: 3.1609e-06 - val_accuracy: 1.0000\n",
            "Epoch 111/1000\n",
            " 1/19 [>.............................] - ETA: 0s - loss: 0.0025 - accuracy: 1.0000\n",
            "Epoch 111: saving model to model/keypoint_classifier/keypoint_classifier.hdf5\n",
            "19/19 [==============================] - 0s 4ms/step - loss: 0.0102 - accuracy: 0.9958 - val_loss: 3.8130e-06 - val_accuracy: 1.0000\n",
            "Epoch 112/1000\n",
            " 1/19 [>.............................] - ETA: 0s - loss: 0.0155 - accuracy: 0.9922\n",
            "Epoch 112: saving model to model/keypoint_classifier/keypoint_classifier.hdf5\n",
            "19/19 [==============================] - 0s 4ms/step - loss: 0.0092 - accuracy: 0.9962 - val_loss: 4.6431e-06 - val_accuracy: 1.0000\n",
            "Epoch 113/1000\n",
            " 1/19 [>.............................] - ETA: 0s - loss: 5.6065e-04 - accuracy: 1.0000\n",
            "Epoch 113: saving model to model/keypoint_classifier/keypoint_classifier.hdf5\n",
            "19/19 [==============================] - 0s 4ms/step - loss: 0.0075 - accuracy: 0.9966 - val_loss: 4.5349e-06 - val_accuracy: 1.0000\n",
            "Epoch 114/1000\n",
            " 1/19 [>.............................] - ETA: 0s - loss: 6.9445e-04 - accuracy: 1.0000\n",
            "Epoch 114: saving model to model/keypoint_classifier/keypoint_classifier.hdf5\n",
            "19/19 [==============================] - 0s 4ms/step - loss: 0.0076 - accuracy: 0.9971 - val_loss: 4.1891e-06 - val_accuracy: 1.0000\n",
            "Epoch 115/1000\n",
            " 1/19 [>.............................] - ETA: 0s - loss: 0.0135 - accuracy: 0.9922\n",
            "Epoch 115: saving model to model/keypoint_classifier/keypoint_classifier.hdf5\n",
            "19/19 [==============================] - 0s 4ms/step - loss: 0.0057 - accuracy: 0.9983 - val_loss: 3.2441e-06 - val_accuracy: 1.0000\n",
            "Epoch 116/1000\n",
            " 1/19 [>.............................] - ETA: 0s - loss: 8.3020e-04 - accuracy: 1.0000\n",
            "Epoch 116: saving model to model/keypoint_classifier/keypoint_classifier.hdf5\n",
            "19/19 [==============================] - 0s 4ms/step - loss: 0.0030 - accuracy: 1.0000 - val_loss: 2.6482e-06 - val_accuracy: 1.0000\n",
            "Epoch 117/1000\n",
            " 1/19 [>.............................] - ETA: 0s - loss: 0.0239 - accuracy: 0.9844\n",
            "Epoch 117: saving model to model/keypoint_classifier/keypoint_classifier.hdf5\n",
            "19/19 [==============================] - 0s 4ms/step - loss: 0.0054 - accuracy: 0.9975 - val_loss: 2.2135e-06 - val_accuracy: 1.0000\n",
            "Epoch 118/1000\n",
            " 1/19 [>.............................] - ETA: 0s - loss: 7.8813e-04 - accuracy: 1.0000\n",
            "Epoch 118: saving model to model/keypoint_classifier/keypoint_classifier.hdf5\n",
            "19/19 [==============================] - 0s 4ms/step - loss: 0.0079 - accuracy: 0.9979 - val_loss: 1.8902e-06 - val_accuracy: 1.0000\n",
            "Epoch 119/1000\n",
            " 1/19 [>.............................] - ETA: 0s - loss: 0.0046 - accuracy: 1.0000\n",
            "Epoch 119: saving model to model/keypoint_classifier/keypoint_classifier.hdf5\n",
            "19/19 [==============================] - 0s 4ms/step - loss: 0.0103 - accuracy: 0.9971 - val_loss: 1.6474e-06 - val_accuracy: 1.0000\n",
            "Epoch 120/1000\n",
            " 1/19 [>.............................] - ETA: 0s - loss: 0.0043 - accuracy: 1.0000\n",
            "Epoch 120: saving model to model/keypoint_classifier/keypoint_classifier.hdf5\n",
            "19/19 [==============================] - 0s 4ms/step - loss: 0.0064 - accuracy: 0.9975 - val_loss: 1.7878e-06 - val_accuracy: 1.0000\n",
            "Epoch 121/1000\n",
            " 1/19 [>.............................] - ETA: 0s - loss: 6.3554e-04 - accuracy: 1.0000\n",
            "Epoch 121: saving model to model/keypoint_classifier/keypoint_classifier.hdf5\n",
            "19/19 [==============================] - 0s 3ms/step - loss: 0.0044 - accuracy: 0.9983 - val_loss: 1.6964e-06 - val_accuracy: 1.0000\n",
            "Epoch 122/1000\n",
            " 1/19 [>.............................] - ETA: 0s - loss: 0.0251 - accuracy: 0.9922\n",
            "Epoch 122: saving model to model/keypoint_classifier/keypoint_classifier.hdf5\n",
            "19/19 [==============================] - 0s 3ms/step - loss: 0.0114 - accuracy: 0.9949 - val_loss: 1.5447e-06 - val_accuracy: 1.0000\n",
            "Epoch 123/1000\n",
            " 1/19 [>.............................] - ETA: 0s - loss: 0.0012 - accuracy: 1.0000\n",
            "Epoch 123: saving model to model/keypoint_classifier/keypoint_classifier.hdf5\n",
            "19/19 [==============================] - 0s 3ms/step - loss: 0.0049 - accuracy: 0.9987 - val_loss: 1.5244e-06 - val_accuracy: 1.0000\n",
            "Epoch 124/1000\n",
            " 1/19 [>.............................] - ETA: 0s - loss: 0.0015 - accuracy: 1.0000\n",
            "Epoch 124: saving model to model/keypoint_classifier/keypoint_classifier.hdf5\n",
            "19/19 [==============================] - 0s 4ms/step - loss: 0.0039 - accuracy: 0.9992 - val_loss: 1.2525e-06 - val_accuracy: 1.0000\n",
            "Epoch 125/1000\n",
            " 1/19 [>.............................] - ETA: 0s - loss: 0.0117 - accuracy: 0.9922\n",
            "Epoch 125: saving model to model/keypoint_classifier/keypoint_classifier.hdf5\n",
            "19/19 [==============================] - 0s 4ms/step - loss: 0.0156 - accuracy: 0.9971 - val_loss: 2.5236e-06 - val_accuracy: 1.0000\n",
            "Epoch 126/1000\n",
            " 1/19 [>.............................] - ETA: 0s - loss: 0.0152 - accuracy: 0.9922\n",
            "Epoch 126: saving model to model/keypoint_classifier/keypoint_classifier.hdf5\n",
            "19/19 [==============================] - 0s 4ms/step - loss: 0.0062 - accuracy: 0.9971 - val_loss: 3.0622e-06 - val_accuracy: 1.0000\n",
            "Epoch 127/1000\n",
            " 1/19 [>.............................] - ETA: 0s - loss: 0.0055 - accuracy: 1.0000\n",
            "Epoch 127: saving model to model/keypoint_classifier/keypoint_classifier.hdf5\n",
            "19/19 [==============================] - 0s 4ms/step - loss: 0.0055 - accuracy: 0.9979 - val_loss: 3.0556e-06 - val_accuracy: 1.0000\n",
            "Epoch 128/1000\n",
            " 1/19 [>.............................] - ETA: 0s - loss: 0.0019 - accuracy: 1.0000\n",
            "Epoch 128: saving model to model/keypoint_classifier/keypoint_classifier.hdf5\n",
            "19/19 [==============================] - 0s 3ms/step - loss: 0.0049 - accuracy: 0.9983 - val_loss: 2.8217e-06 - val_accuracy: 1.0000\n",
            "Epoch 129/1000\n",
            " 1/19 [>.............................] - ETA: 0s - loss: 5.1517e-04 - accuracy: 1.0000\n",
            "Epoch 129: saving model to model/keypoint_classifier/keypoint_classifier.hdf5\n",
            "19/19 [==============================] - 0s 4ms/step - loss: 0.0114 - accuracy: 0.9966 - val_loss: 2.4708e-06 - val_accuracy: 1.0000\n",
            "Epoch 130/1000\n",
            " 1/19 [>.............................] - ETA: 0s - loss: 7.1916e-04 - accuracy: 1.0000\n",
            "Epoch 130: saving model to model/keypoint_classifier/keypoint_classifier.hdf5\n",
            "19/19 [==============================] - 0s 4ms/step - loss: 0.0050 - accuracy: 0.9979 - val_loss: 2.2276e-06 - val_accuracy: 1.0000\n",
            "Epoch 131/1000\n",
            " 1/19 [>.............................] - ETA: 0s - loss: 0.0292 - accuracy: 0.9922\n",
            "Epoch 131: saving model to model/keypoint_classifier/keypoint_classifier.hdf5\n",
            "19/19 [==============================] - 0s 3ms/step - loss: 0.0071 - accuracy: 0.9962 - val_loss: 3.5916e-06 - val_accuracy: 1.0000\n",
            "Epoch 132/1000\n",
            " 1/19 [>.............................] - ETA: 0s - loss: 1.5906e-05 - accuracy: 1.0000\n",
            "Epoch 132: saving model to model/keypoint_classifier/keypoint_classifier.hdf5\n",
            "19/19 [==============================] - 0s 3ms/step - loss: 0.0054 - accuracy: 0.9975 - val_loss: 4.0045e-06 - val_accuracy: 1.0000\n",
            "Epoch 133/1000\n",
            " 1/19 [>.............................] - ETA: 0s - loss: 0.0015 - accuracy: 1.0000\n",
            "Epoch 133: saving model to model/keypoint_classifier/keypoint_classifier.hdf5\n",
            "19/19 [==============================] - 0s 3ms/step - loss: 0.0069 - accuracy: 0.9979 - val_loss: 3.3563e-06 - val_accuracy: 1.0000\n",
            "Epoch 134/1000\n",
            " 1/19 [>.............................] - ETA: 0s - loss: 0.0160 - accuracy: 0.9922\n",
            "Epoch 134: saving model to model/keypoint_classifier/keypoint_classifier.hdf5\n",
            "19/19 [==============================] - 0s 3ms/step - loss: 0.0046 - accuracy: 0.9983 - val_loss: 2.6934e-06 - val_accuracy: 1.0000\n",
            "Epoch 135/1000\n",
            " 1/19 [>.............................] - ETA: 0s - loss: 0.0012 - accuracy: 1.0000\n",
            "Epoch 135: saving model to model/keypoint_classifier/keypoint_classifier.hdf5\n",
            "19/19 [==============================] - 0s 3ms/step - loss: 0.0030 - accuracy: 0.9992 - val_loss: 2.3062e-06 - val_accuracy: 1.0000\n",
            "Epoch 136/1000\n",
            " 1/19 [>.............................] - ETA: 0s - loss: 1.6210e-04 - accuracy: 1.0000\n",
            "Epoch 136: saving model to model/keypoint_classifier/keypoint_classifier.hdf5\n",
            "19/19 [==============================] - 0s 4ms/step - loss: 0.0044 - accuracy: 0.9979 - val_loss: 2.4728e-06 - val_accuracy: 1.0000\n",
            "Epoch 137/1000\n",
            " 1/19 [>.............................] - ETA: 0s - loss: 0.0029 - accuracy: 1.0000\n",
            "Epoch 137: saving model to model/keypoint_classifier/keypoint_classifier.hdf5\n",
            "19/19 [==============================] - 0s 4ms/step - loss: 0.0069 - accuracy: 0.9971 - val_loss: 1.8266e-06 - val_accuracy: 1.0000\n",
            "Epoch 138/1000\n",
            " 1/19 [>.............................] - ETA: 0s - loss: 0.0025 - accuracy: 1.0000\n",
            "Epoch 138: saving model to model/keypoint_classifier/keypoint_classifier.hdf5\n",
            "19/19 [==============================] - 0s 4ms/step - loss: 0.0093 - accuracy: 0.9966 - val_loss: 2.0357e-06 - val_accuracy: 1.0000\n",
            "Epoch 139/1000\n",
            " 1/19 [>.............................] - ETA: 0s - loss: 3.7454e-04 - accuracy: 1.0000\n",
            "Epoch 139: saving model to model/keypoint_classifier/keypoint_classifier.hdf5\n",
            "19/19 [==============================] - 0s 5ms/step - loss: 0.0070 - accuracy: 0.9975 - val_loss: 2.3665e-06 - val_accuracy: 1.0000\n",
            "Epoch 140/1000\n",
            " 1/19 [>.............................] - ETA: 0s - loss: 4.1424e-04 - accuracy: 1.0000\n",
            "Epoch 140: saving model to model/keypoint_classifier/keypoint_classifier.hdf5\n",
            "19/19 [==============================] - 0s 5ms/step - loss: 0.0082 - accuracy: 0.9983 - val_loss: 1.7281e-06 - val_accuracy: 1.0000\n",
            "Epoch 141/1000\n",
            " 1/19 [>.............................] - ETA: 0s - loss: 0.0078 - accuracy: 1.0000\n",
            "Epoch 141: saving model to model/keypoint_classifier/keypoint_classifier.hdf5\n",
            "19/19 [==============================] - 0s 4ms/step - loss: 0.0054 - accuracy: 0.9979 - val_loss: 1.2731e-06 - val_accuracy: 1.0000\n",
            "Epoch 142/1000\n",
            " 1/19 [>.............................] - ETA: 0s - loss: 0.0078 - accuracy: 0.9922\n",
            "Epoch 142: saving model to model/keypoint_classifier/keypoint_classifier.hdf5\n",
            "19/19 [==============================] - 0s 4ms/step - loss: 0.0064 - accuracy: 0.9971 - val_loss: 1.1703e-06 - val_accuracy: 1.0000\n",
            "Epoch 143/1000\n",
            " 1/19 [>.............................] - ETA: 0s - loss: 5.1129e-04 - accuracy: 1.0000\n",
            "Epoch 143: saving model to model/keypoint_classifier/keypoint_classifier.hdf5\n",
            "19/19 [==============================] - 0s 4ms/step - loss: 0.0055 - accuracy: 0.9983 - val_loss: 1.1847e-06 - val_accuracy: 1.0000\n",
            "Epoch 144/1000\n",
            " 1/19 [>.............................] - ETA: 0s - loss: 0.0013 - accuracy: 1.0000\n",
            "Epoch 144: saving model to model/keypoint_classifier/keypoint_classifier.hdf5\n",
            "19/19 [==============================] - 0s 4ms/step - loss: 0.0069 - accuracy: 0.9971 - val_loss: 1.4665e-06 - val_accuracy: 1.0000\n",
            "Epoch 145/1000\n",
            " 1/19 [>.............................] - ETA: 0s - loss: 0.0055 - accuracy: 1.0000\n",
            "Epoch 145: saving model to model/keypoint_classifier/keypoint_classifier.hdf5\n",
            "19/19 [==============================] - 0s 4ms/step - loss: 0.0069 - accuracy: 0.9971 - val_loss: 1.6928e-06 - val_accuracy: 1.0000\n",
            "Epoch 146/1000\n",
            " 1/19 [>.............................] - ETA: 0s - loss: 0.0041 - accuracy: 1.0000\n",
            "Epoch 146: saving model to model/keypoint_classifier/keypoint_classifier.hdf5\n",
            "19/19 [==============================] - 0s 3ms/step - loss: 0.0068 - accuracy: 0.9971 - val_loss: 2.1203e-06 - val_accuracy: 1.0000\n",
            "Epoch 147/1000\n",
            " 1/19 [>.............................] - ETA: 0s - loss: 0.0048 - accuracy: 1.0000\n",
            "Epoch 147: saving model to model/keypoint_classifier/keypoint_classifier.hdf5\n",
            "19/19 [==============================] - 0s 4ms/step - loss: 0.0045 - accuracy: 0.9987 - val_loss: 1.8468e-06 - val_accuracy: 1.0000\n",
            "Epoch 148/1000\n",
            " 1/19 [>.............................] - ETA: 0s - loss: 8.4749e-04 - accuracy: 1.0000\n",
            "Epoch 148: saving model to model/keypoint_classifier/keypoint_classifier.hdf5\n",
            "19/19 [==============================] - 0s 3ms/step - loss: 0.0053 - accuracy: 0.9975 - val_loss: 1.9686e-06 - val_accuracy: 1.0000\n",
            "Epoch 149/1000\n",
            " 1/19 [>.............................] - ETA: 0s - loss: 0.0038 - accuracy: 1.0000\n",
            "Epoch 149: saving model to model/keypoint_classifier/keypoint_classifier.hdf5\n",
            "19/19 [==============================] - 0s 3ms/step - loss: 0.0071 - accuracy: 0.9971 - val_loss: 1.5519e-06 - val_accuracy: 1.0000\n",
            "Epoch 150/1000\n",
            " 1/19 [>.............................] - ETA: 0s - loss: 1.6826e-04 - accuracy: 1.0000\n",
            "Epoch 150: saving model to model/keypoint_classifier/keypoint_classifier.hdf5\n",
            "19/19 [==============================] - 0s 3ms/step - loss: 0.0097 - accuracy: 0.9966 - val_loss: 1.1940e-06 - val_accuracy: 1.0000\n",
            "Epoch 151/1000\n",
            " 1/19 [>.............................] - ETA: 0s - loss: 0.0141 - accuracy: 0.9922\n",
            "Epoch 151: saving model to model/keypoint_classifier/keypoint_classifier.hdf5\n",
            "19/19 [==============================] - 0s 4ms/step - loss: 0.0063 - accuracy: 0.9983 - val_loss: 9.6733e-07 - val_accuracy: 1.0000\n",
            "Epoch 152/1000\n",
            " 1/19 [>.............................] - ETA: 0s - loss: 0.0038 - accuracy: 1.0000\n",
            "Epoch 152: saving model to model/keypoint_classifier/keypoint_classifier.hdf5\n",
            "19/19 [==============================] - 0s 4ms/step - loss: 0.0052 - accuracy: 0.9971 - val_loss: 8.5715e-07 - val_accuracy: 1.0000\n",
            "Epoch 153/1000\n",
            " 1/19 [>.............................] - ETA: 0s - loss: 8.2246e-04 - accuracy: 1.0000\n",
            "Epoch 153: saving model to model/keypoint_classifier/keypoint_classifier.hdf5\n",
            "19/19 [==============================] - 0s 4ms/step - loss: 0.0051 - accuracy: 0.9971 - val_loss: 8.4167e-07 - val_accuracy: 1.0000\n",
            "Epoch 154/1000\n",
            " 1/19 [>.............................] - ETA: 0s - loss: 0.0057 - accuracy: 1.0000\n",
            "Epoch 154: saving model to model/keypoint_classifier/keypoint_classifier.hdf5\n",
            "19/19 [==============================] - 0s 4ms/step - loss: 0.0055 - accuracy: 0.9975 - val_loss: 1.0126e-06 - val_accuracy: 1.0000\n",
            "Epoch 155/1000\n",
            " 1/19 [>.............................] - ETA: 0s - loss: 0.0048 - accuracy: 1.0000\n",
            "Epoch 155: saving model to model/keypoint_classifier/keypoint_classifier.hdf5\n",
            "19/19 [==============================] - 0s 4ms/step - loss: 0.0042 - accuracy: 0.9979 - val_loss: 8.6497e-07 - val_accuracy: 1.0000\n",
            "Epoch 156/1000\n",
            " 1/19 [>.............................] - ETA: 0s - loss: 0.0043 - accuracy: 1.0000\n",
            "Epoch 156: saving model to model/keypoint_classifier/keypoint_classifier.hdf5\n",
            "19/19 [==============================] - 0s 4ms/step - loss: 0.0082 - accuracy: 0.9962 - val_loss: 8.3731e-07 - val_accuracy: 1.0000\n",
            "Epoch 157/1000\n",
            " 1/19 [>.............................] - ETA: 0s - loss: 2.6956e-04 - accuracy: 1.0000\n",
            "Epoch 157: saving model to model/keypoint_classifier/keypoint_classifier.hdf5\n",
            "19/19 [==============================] - 0s 4ms/step - loss: 0.0037 - accuracy: 0.9983 - val_loss: 7.4726e-07 - val_accuracy: 1.0000\n",
            "Epoch 158/1000\n",
            " 1/19 [>.............................] - ETA: 0s - loss: 0.0017 - accuracy: 1.0000\n",
            "Epoch 158: saving model to model/keypoint_classifier/keypoint_classifier.hdf5\n",
            "19/19 [==============================] - 0s 4ms/step - loss: 0.0040 - accuracy: 0.9983 - val_loss: 7.0247e-07 - val_accuracy: 1.0000\n",
            "Epoch 159/1000\n",
            " 1/19 [>.............................] - ETA: 0s - loss: 0.0022 - accuracy: 1.0000\n",
            "Epoch 159: saving model to model/keypoint_classifier/keypoint_classifier.hdf5\n",
            "19/19 [==============================] - 0s 4ms/step - loss: 0.0055 - accuracy: 0.9971 - val_loss: 7.0773e-07 - val_accuracy: 1.0000\n",
            "Epoch 160/1000\n",
            " 1/19 [>.............................] - ETA: 0s - loss: 0.0348 - accuracy: 0.9922\n",
            "Epoch 160: saving model to model/keypoint_classifier/keypoint_classifier.hdf5\n",
            "19/19 [==============================] - 0s 4ms/step - loss: 0.0068 - accuracy: 0.9979 - val_loss: 6.5346e-07 - val_accuracy: 1.0000\n",
            "Epoch 161/1000\n",
            " 1/19 [>.............................] - ETA: 0s - loss: 5.6932e-04 - accuracy: 1.0000\n",
            "Epoch 161: saving model to model/keypoint_classifier/keypoint_classifier.hdf5\n",
            "19/19 [==============================] - 0s 4ms/step - loss: 0.0073 - accuracy: 0.9971 - val_loss: 5.6552e-07 - val_accuracy: 1.0000\n",
            "Epoch 162/1000\n",
            " 1/19 [>.............................] - ETA: 0s - loss: 0.0015 - accuracy: 1.0000\n",
            "Epoch 162: saving model to model/keypoint_classifier/keypoint_classifier.hdf5\n",
            "19/19 [==============================] - 0s 4ms/step - loss: 0.0035 - accuracy: 0.9983 - val_loss: 4.9307e-07 - val_accuracy: 1.0000\n",
            "Epoch 163/1000\n",
            " 1/19 [>.............................] - ETA: 0s - loss: 8.2723e-04 - accuracy: 1.0000\n",
            "Epoch 163: saving model to model/keypoint_classifier/keypoint_classifier.hdf5\n",
            "19/19 [==============================] - 0s 4ms/step - loss: 0.0068 - accuracy: 0.9962 - val_loss: 4.6736e-07 - val_accuracy: 1.0000\n",
            "Epoch 164/1000\n",
            " 1/19 [>.............................] - ETA: 0s - loss: 0.0019 - accuracy: 1.0000\n",
            "Epoch 164: saving model to model/keypoint_classifier/keypoint_classifier.hdf5\n",
            "19/19 [==============================] - 0s 4ms/step - loss: 0.0029 - accuracy: 0.9987 - val_loss: 6.3287e-07 - val_accuracy: 1.0000\n",
            "Epoch 165/1000\n",
            " 1/19 [>.............................] - ETA: 0s - loss: 8.1422e-04 - accuracy: 1.0000\n",
            "Epoch 165: saving model to model/keypoint_classifier/keypoint_classifier.hdf5\n",
            "19/19 [==============================] - 0s 4ms/step - loss: 0.0056 - accuracy: 0.9971 - val_loss: 8.1912e-07 - val_accuracy: 1.0000\n",
            "Epoch 166/1000\n",
            " 1/19 [>.............................] - ETA: 0s - loss: 8.6325e-04 - accuracy: 1.0000\n",
            "Epoch 166: saving model to model/keypoint_classifier/keypoint_classifier.hdf5\n",
            "19/19 [==============================] - 0s 4ms/step - loss: 0.0032 - accuracy: 0.9992 - val_loss: 7.8740e-07 - val_accuracy: 1.0000\n",
            "Epoch 167/1000\n",
            " 1/19 [>.............................] - ETA: 0s - loss: 5.0276e-04 - accuracy: 1.0000\n",
            "Epoch 167: saving model to model/keypoint_classifier/keypoint_classifier.hdf5\n",
            "19/19 [==============================] - 0s 4ms/step - loss: 0.0043 - accuracy: 0.9987 - val_loss: 6.9420e-07 - val_accuracy: 1.0000\n",
            "Epoch 168/1000\n",
            " 1/19 [>.............................] - ETA: 0s - loss: 0.0095 - accuracy: 0.9922\n",
            "Epoch 168: saving model to model/keypoint_classifier/keypoint_classifier.hdf5\n",
            "19/19 [==============================] - 0s 4ms/step - loss: 0.0055 - accuracy: 0.9975 - val_loss: 7.9597e-07 - val_accuracy: 1.0000\n",
            "Epoch 169/1000\n",
            " 1/19 [>.............................] - ETA: 0s - loss: 0.0085 - accuracy: 1.0000\n",
            "Epoch 169: saving model to model/keypoint_classifier/keypoint_classifier.hdf5\n",
            "19/19 [==============================] - 0s 5ms/step - loss: 0.0076 - accuracy: 0.9962 - val_loss: 6.9796e-07 - val_accuracy: 1.0000\n",
            "Epoch 170/1000\n",
            " 1/19 [>.............................] - ETA: 0s - loss: 0.0096 - accuracy: 0.9922\n",
            "Epoch 170: saving model to model/keypoint_classifier/keypoint_classifier.hdf5\n",
            "19/19 [==============================] - 0s 4ms/step - loss: 0.0062 - accuracy: 0.9975 - val_loss: 5.7244e-07 - val_accuracy: 1.0000\n",
            "Epoch 171/1000\n",
            " 1/19 [>.............................] - ETA: 0s - loss: 2.2256e-04 - accuracy: 1.0000\n",
            "Epoch 171: saving model to model/keypoint_classifier/keypoint_classifier.hdf5\n",
            "19/19 [==============================] - 0s 4ms/step - loss: 0.0050 - accuracy: 0.9975 - val_loss: 5.0133e-07 - val_accuracy: 1.0000\n",
            "Epoch 172/1000\n",
            " 1/19 [>.............................] - ETA: 0s - loss: 0.0176 - accuracy: 0.9844\n",
            "Epoch 172: saving model to model/keypoint_classifier/keypoint_classifier.hdf5\n",
            "19/19 [==============================] - 0s 4ms/step - loss: 0.0063 - accuracy: 0.9975 - val_loss: 7.2727e-07 - val_accuracy: 1.0000\n",
            "Epoch 173/1000\n",
            " 1/19 [>.............................] - ETA: 0s - loss: 5.9528e-04 - accuracy: 1.0000\n",
            "Epoch 173: saving model to model/keypoint_classifier/keypoint_classifier.hdf5\n",
            "19/19 [==============================] - 0s 4ms/step - loss: 0.0042 - accuracy: 0.9979 - val_loss: 8.0814e-07 - val_accuracy: 1.0000\n",
            "Epoch 174/1000\n",
            " 1/19 [>.............................] - ETA: 0s - loss: 0.0102 - accuracy: 1.0000\n",
            "Epoch 174: saving model to model/keypoint_classifier/keypoint_classifier.hdf5\n",
            "19/19 [==============================] - 0s 4ms/step - loss: 0.0034 - accuracy: 0.9987 - val_loss: 6.8834e-07 - val_accuracy: 1.0000\n",
            "Epoch 175/1000\n",
            " 1/19 [>.............................] - ETA: 0s - loss: 0.0251 - accuracy: 0.9766\n",
            "Epoch 175: saving model to model/keypoint_classifier/keypoint_classifier.hdf5\n",
            "19/19 [==============================] - 0s 4ms/step - loss: 0.0068 - accuracy: 0.9958 - val_loss: 7.0652e-07 - val_accuracy: 1.0000\n",
            "Epoch 176/1000\n",
            " 1/19 [>.............................] - ETA: 0s - loss: 1.5803e-04 - accuracy: 1.0000\n",
            "Epoch 176: saving model to model/keypoint_classifier/keypoint_classifier.hdf5\n",
            "19/19 [==============================] - 0s 4ms/step - loss: 0.0061 - accuracy: 0.9971 - val_loss: 8.5444e-07 - val_accuracy: 1.0000\n",
            "Epoch 177/1000\n",
            " 1/19 [>.............................] - ETA: 0s - loss: 0.0090 - accuracy: 0.9922\n",
            "Epoch 177: saving model to model/keypoint_classifier/keypoint_classifier.hdf5\n",
            "19/19 [==============================] - 0s 4ms/step - loss: 0.0056 - accuracy: 0.9962 - val_loss: 5.0825e-07 - val_accuracy: 1.0000\n",
            "Epoch 178/1000\n",
            " 1/19 [>.............................] - ETA: 0s - loss: 0.0012 - accuracy: 1.0000\n",
            "Epoch 178: saving model to model/keypoint_classifier/keypoint_classifier.hdf5\n",
            "19/19 [==============================] - 0s 4ms/step - loss: 0.0028 - accuracy: 0.9983 - val_loss: 3.8679e-07 - val_accuracy: 1.0000\n",
            "Epoch 179/1000\n",
            " 1/19 [>.............................] - ETA: 0s - loss: 0.0034 - accuracy: 1.0000\n",
            "Epoch 179: saving model to model/keypoint_classifier/keypoint_classifier.hdf5\n",
            "19/19 [==============================] - 0s 3ms/step - loss: 0.0047 - accuracy: 0.9979 - val_loss: 3.5146e-07 - val_accuracy: 1.0000\n",
            "Epoch 180/1000\n",
            " 1/19 [>.............................] - ETA: 0s - loss: 5.3900e-04 - accuracy: 1.0000\n",
            "Epoch 180: saving model to model/keypoint_classifier/keypoint_classifier.hdf5\n",
            "19/19 [==============================] - 0s 4ms/step - loss: 0.0056 - accuracy: 0.9979 - val_loss: 3.5296e-07 - val_accuracy: 1.0000\n",
            "Epoch 181/1000\n",
            " 1/19 [>.............................] - ETA: 0s - loss: 6.0598e-04 - accuracy: 1.0000\n",
            "Epoch 181: saving model to model/keypoint_classifier/keypoint_classifier.hdf5\n",
            "19/19 [==============================] - 0s 4ms/step - loss: 0.0124 - accuracy: 0.9945 - val_loss: 4.8690e-07 - val_accuracy: 1.0000\n",
            "Epoch 182/1000\n",
            " 1/19 [>.............................] - ETA: 0s - loss: 0.0047 - accuracy: 1.0000\n",
            "Epoch 182: saving model to model/keypoint_classifier/keypoint_classifier.hdf5\n",
            "19/19 [==============================] - 0s 4ms/step - loss: 0.0038 - accuracy: 0.9975 - val_loss: 4.0257e-07 - val_accuracy: 1.0000\n",
            "Epoch 183/1000\n",
            " 1/19 [>.............................] - ETA: 0s - loss: 2.9055e-04 - accuracy: 1.0000\n",
            "Epoch 183: saving model to model/keypoint_classifier/keypoint_classifier.hdf5\n",
            "19/19 [==============================] - 0s 4ms/step - loss: 0.0063 - accuracy: 0.9979 - val_loss: 3.4830e-07 - val_accuracy: 1.0000\n",
            "Epoch 184/1000\n",
            " 1/19 [>.............................] - ETA: 0s - loss: 0.0045 - accuracy: 1.0000\n",
            "Epoch 184: saving model to model/keypoint_classifier/keypoint_classifier.hdf5\n",
            "19/19 [==============================] - 0s 4ms/step - loss: 0.0066 - accuracy: 0.9983 - val_loss: 3.3853e-07 - val_accuracy: 1.0000\n",
            "Epoch 185/1000\n",
            " 1/19 [>.............................] - ETA: 0s - loss: 1.9339e-04 - accuracy: 1.0000\n",
            "Epoch 185: saving model to model/keypoint_classifier/keypoint_classifier.hdf5\n",
            "19/19 [==============================] - 0s 4ms/step - loss: 0.0036 - accuracy: 0.9987 - val_loss: 3.6319e-07 - val_accuracy: 1.0000\n",
            "Epoch 186/1000\n",
            " 1/19 [>.............................] - ETA: 0s - loss: 2.7386e-04 - accuracy: 1.0000\n",
            "Epoch 186: saving model to model/keypoint_classifier/keypoint_classifier.hdf5\n",
            "19/19 [==============================] - 0s 4ms/step - loss: 0.0067 - accuracy: 0.9954 - val_loss: 4.0227e-07 - val_accuracy: 1.0000\n",
            "Epoch 187/1000\n",
            " 1/19 [>.............................] - ETA: 0s - loss: 0.0081 - accuracy: 0.9922\n",
            "Epoch 187: saving model to model/keypoint_classifier/keypoint_classifier.hdf5\n",
            "19/19 [==============================] - 0s 4ms/step - loss: 0.0055 - accuracy: 0.9971 - val_loss: 5.4072e-07 - val_accuracy: 1.0000\n",
            "Epoch 188/1000\n",
            " 1/19 [>.............................] - ETA: 0s - loss: 1.0330e-04 - accuracy: 1.0000\n",
            "Epoch 188: saving model to model/keypoint_classifier/keypoint_classifier.hdf5\n",
            "19/19 [==============================] - 0s 4ms/step - loss: 0.0038 - accuracy: 0.9987 - val_loss: 5.9378e-07 - val_accuracy: 1.0000\n",
            "Epoch 189/1000\n",
            " 1/19 [>.............................] - ETA: 0s - loss: 0.0050 - accuracy: 1.0000\n",
            "Epoch 189: saving model to model/keypoint_classifier/keypoint_classifier.hdf5\n",
            "19/19 [==============================] - 0s 4ms/step - loss: 0.0037 - accuracy: 0.9983 - val_loss: 5.5139e-07 - val_accuracy: 1.0000\n",
            "Epoch 190/1000\n",
            " 1/19 [>.............................] - ETA: 0s - loss: 0.0083 - accuracy: 0.9922\n",
            "Epoch 190: saving model to model/keypoint_classifier/keypoint_classifier.hdf5\n",
            "19/19 [==============================] - 0s 4ms/step - loss: 0.0055 - accuracy: 0.9975 - val_loss: 4.6871e-07 - val_accuracy: 1.0000\n",
            "Epoch 191/1000\n",
            " 1/19 [>.............................] - ETA: 0s - loss: 0.0030 - accuracy: 1.0000\n",
            "Epoch 191: saving model to model/keypoint_classifier/keypoint_classifier.hdf5\n",
            "19/19 [==============================] - 0s 3ms/step - loss: 0.0102 - accuracy: 0.9954 - val_loss: 9.9408e-07 - val_accuracy: 1.0000\n",
            "Epoch 192/1000\n",
            " 1/19 [>.............................] - ETA: 0s - loss: 0.0071 - accuracy: 0.9922\n",
            "Epoch 192: saving model to model/keypoint_classifier/keypoint_classifier.hdf5\n",
            "19/19 [==============================] - 0s 4ms/step - loss: 0.0063 - accuracy: 0.9962 - val_loss: 2.2328e-06 - val_accuracy: 1.0000\n",
            "Epoch 193/1000\n",
            " 1/19 [>.............................] - ETA: 0s - loss: 0.0076 - accuracy: 0.9922\n",
            "Epoch 193: saving model to model/keypoint_classifier/keypoint_classifier.hdf5\n",
            "19/19 [==============================] - 0s 4ms/step - loss: 0.0066 - accuracy: 0.9954 - val_loss: 2.3971e-06 - val_accuracy: 1.0000\n",
            "Epoch 194/1000\n",
            " 1/19 [>.............................] - ETA: 0s - loss: 0.0016 - accuracy: 1.0000\n",
            "Epoch 194: saving model to model/keypoint_classifier/keypoint_classifier.hdf5\n",
            "19/19 [==============================] - 0s 4ms/step - loss: 0.0056 - accuracy: 0.9954 - val_loss: 2.6386e-06 - val_accuracy: 1.0000\n",
            "Epoch 195/1000\n",
            " 1/19 [>.............................] - ETA: 0s - loss: 0.0114 - accuracy: 1.0000\n",
            "Epoch 195: saving model to model/keypoint_classifier/keypoint_classifier.hdf5\n",
            "19/19 [==============================] - 0s 3ms/step - loss: 0.0068 - accuracy: 0.9975 - val_loss: 1.6692e-06 - val_accuracy: 1.0000\n",
            "Epoch 196/1000\n",
            " 1/19 [>.............................] - ETA: 0s - loss: 3.1496e-04 - accuracy: 1.0000\n",
            "Epoch 196: saving model to model/keypoint_classifier/keypoint_classifier.hdf5\n",
            "19/19 [==============================] - 0s 3ms/step - loss: 0.0039 - accuracy: 0.9971 - val_loss: 9.7274e-07 - val_accuracy: 1.0000\n",
            "Epoch 197/1000\n",
            " 1/19 [>.............................] - ETA: 0s - loss: 0.0059 - accuracy: 1.0000\n",
            "Epoch 197: saving model to model/keypoint_classifier/keypoint_classifier.hdf5\n",
            "19/19 [==============================] - 0s 4ms/step - loss: 0.0060 - accuracy: 0.9979 - val_loss: 1.1509e-06 - val_accuracy: 1.0000\n",
            "Epoch 198/1000\n",
            " 1/19 [>.............................] - ETA: 0s - loss: 2.4019e-04 - accuracy: 1.0000\n",
            "Epoch 198: saving model to model/keypoint_classifier/keypoint_classifier.hdf5\n",
            "19/19 [==============================] - 0s 4ms/step - loss: 0.0035 - accuracy: 0.9979 - val_loss: 1.1715e-06 - val_accuracy: 1.0000\n",
            "Epoch 199/1000\n",
            " 1/19 [>.............................] - ETA: 0s - loss: 3.4093e-04 - accuracy: 1.0000\n",
            "Epoch 199: saving model to model/keypoint_classifier/keypoint_classifier.hdf5\n",
            "19/19 [==============================] - 0s 4ms/step - loss: 0.0044 - accuracy: 0.9979 - val_loss: 1.0595e-06 - val_accuracy: 1.0000\n",
            "Epoch 200/1000\n",
            " 1/19 [>.............................] - ETA: 0s - loss: 0.0075 - accuracy: 0.9922\n",
            "Epoch 200: saving model to model/keypoint_classifier/keypoint_classifier.hdf5\n",
            "19/19 [==============================] - 0s 3ms/step - loss: 0.0057 - accuracy: 0.9962 - val_loss: 1.0102e-06 - val_accuracy: 1.0000\n",
            "Epoch 201/1000\n",
            " 1/19 [>.............................] - ETA: 0s - loss: 0.0071 - accuracy: 0.9922\n",
            "Epoch 201: saving model to model/keypoint_classifier/keypoint_classifier.hdf5\n",
            "19/19 [==============================] - 0s 4ms/step - loss: 0.0048 - accuracy: 0.9987 - val_loss: 8.4542e-07 - val_accuracy: 1.0000\n",
            "Epoch 202/1000\n",
            " 1/19 [>.............................] - ETA: 0s - loss: 0.0074 - accuracy: 0.9922\n",
            "Epoch 202: saving model to model/keypoint_classifier/keypoint_classifier.hdf5\n",
            "19/19 [==============================] - 0s 3ms/step - loss: 0.0047 - accuracy: 0.9971 - val_loss: 7.2020e-07 - val_accuracy: 1.0000\n",
            "Epoch 203/1000\n",
            " 1/19 [>.............................] - ETA: 0s - loss: 4.9106e-04 - accuracy: 1.0000\n",
            "Epoch 203: saving model to model/keypoint_classifier/keypoint_classifier.hdf5\n",
            "19/19 [==============================] - 0s 4ms/step - loss: 0.0047 - accuracy: 0.9962 - val_loss: 5.4643e-07 - val_accuracy: 1.0000\n",
            "Epoch 204/1000\n",
            " 1/19 [>.............................] - ETA: 0s - loss: 2.9733e-04 - accuracy: 1.0000\n",
            "Epoch 204: saving model to model/keypoint_classifier/keypoint_classifier.hdf5\n",
            "19/19 [==============================] - 0s 3ms/step - loss: 0.0038 - accuracy: 0.9983 - val_loss: 4.8315e-07 - val_accuracy: 1.0000\n",
            "Epoch 204: early stopping\n"
          ]
        },
        {
          "data": {
            "text/plain": [
              "<keras.callbacks.History at 0x16803acb0>"
            ]
          },
          "execution_count": 50,
          "metadata": {},
          "output_type": "execute_result"
        }
      ],
      "source": [
        "model.fit(\n",
        "    X_train,\n",
        "    y_train,\n",
        "    epochs=1000,\n",
        "    batch_size=128,\n",
        "    validation_data=(X_test, y_test),\n",
        "    callbacks=[cp_callback, es_callback]\n",
        ")"
      ]
    },
    {
      "cell_type": "code",
      "execution_count": 51,
      "metadata": {
        "colab": {
          "base_uri": "https://localhost:8080/"
        },
        "id": "pxvb2Y299hE3",
        "outputId": "59eb3185-2e37-4b9e-bc9d-ab1b8ac29b7f"
      },
      "outputs": [
        {
          "name": "stdout",
          "output_type": "stream",
          "text": [
            "7/7 [==============================] - 0s 1ms/step - loss: 4.8315e-07 - accuracy: 1.0000\n"
          ]
        }
      ],
      "source": [
        "# Model evaluation\n",
        "val_loss, val_acc = model.evaluate(X_test, y_test, batch_size=128)"
      ]
    },
    {
      "cell_type": "code",
      "execution_count": 52,
      "metadata": {
        "id": "RBkmDeUW9hE4"
      },
      "outputs": [],
      "source": [
        "# Loading the saved model\n",
        "model = tf.keras.models.load_model(model_save_path)"
      ]
    },
    {
      "cell_type": "code",
      "execution_count": 53,
      "metadata": {
        "colab": {
          "base_uri": "https://localhost:8080/"
        },
        "id": "tFz9Tb0I9hE4",
        "outputId": "1c3b3528-54ae-4ee2-ab04-77429211cbef"
      },
      "outputs": [
        {
          "name": "stdout",
          "output_type": "stream",
          "text": [
            "[1.0000000e+00 1.9148920e-09 1.0957907e-08]\n",
            "0\n"
          ]
        }
      ],
      "source": [
        "# Inference test\n",
        "predict_result = model.predict(np.array([X_test[0]]))\n",
        "print(np.squeeze(predict_result))\n",
        "print(np.argmax(np.squeeze(predict_result)))"
      ]
    },
    {
      "cell_type": "markdown",
      "metadata": {
        "id": "S3U4yNWx9hE4"
      },
      "source": [
        "# Confusion matrix"
      ]
    },
    {
      "cell_type": "code",
      "execution_count": 54,
      "metadata": {
        "colab": {
          "base_uri": "https://localhost:8080/",
          "height": 582
        },
        "id": "AP1V6SCk9hE5",
        "outputId": "08e41a80-7a4a-4619-8125-ecc371368d19"
      },
      "outputs": [
        {
          "data": {
            "image/png": "[encoded data removed]",
            "text/plain": [
              "<Figure size 504x432 with 2 Axes>"
            ]
          },
          "metadata": {
            "needs_background": "light"
          },
          "output_type": "display_data"
        },
        {
          "name": "stdout",
          "output_type": "stream",
          "text": [
            "Classification Report\n",
            "              precision    recall  f1-score   support\n",
            "\n",
            "           0       1.00      1.00      1.00       375\n",
            "           1       1.00      1.00      1.00       159\n",
            "           2       1.00      1.00      1.00       259\n",
            "\n",
            "    accuracy                           1.00       793\n",
            "   macro avg       1.00      1.00      1.00       793\n",
            "weighted avg       1.00      1.00      1.00       793\n",
            "\n"
          ]
        }
      ],
      "source": [
        "import pandas as pd\n",
        "import seaborn as sns\n",
        "import matplotlib.pyplot as plt\n",
        "from sklearn.metrics import confusion_matrix, classification_report\n",
        "\n",
        "def print_confusion_matrix(y_true, y_pred, report=True):\n",
        "    labels = sorted(list(set(y_true)))\n",
        "    cmx_data = confusion_matrix(y_true, y_pred, labels=labels)\n",
        "    \n",
        "    df_cmx = pd.DataFrame(cmx_data, index=labels, columns=labels)\n",
        " \n",
        "    fig, ax = plt.subplots(figsize=(7, 6))\n",
        "    sns.heatmap(df_cmx, annot=True, fmt='g' ,square=False)\n",
        "    ax.set_ylim(len(set(y_true)), 0)\n",
        "    plt.show()\n",
        "    \n",
        "    if report:\n",
        "        print('Classification Report')\n",
        "        print(classification_report(y_test, y_pred))\n",
        "\n",
        "Y_pred = model.predict(X_test)\n",
        "y_pred = np.argmax(Y_pred, axis=1)\n",
        "\n",
        "print_confusion_matrix(y_test, y_pred)"
      ]
    },
    {
      "cell_type": "markdown",
      "metadata": {
        "id": "FNP6aqzc9hE5"
      },
      "source": [
        "# Convert to model for Tensorflow-Lite"
      ]
    },
    {
      "cell_type": "code",
      "execution_count": 55,
      "metadata": {
        "id": "ODjnYyld9hE6"
      },
      "outputs": [],
      "source": [
        "# Save as a model dedicated to inference\n",
        "model.save(model_save_path, include_optimizer=False)"
      ]
    },
    {
      "cell_type": "code",
      "execution_count": 56,
      "metadata": {
        "colab": {
          "base_uri": "https://localhost:8080/"
        },
        "id": "zRfuK8Y59hE6",
        "outputId": "a4ca585c-b5d5-4244-8291-8674063209bb"
      },
      "outputs": [
        {
          "name": "stdout",
          "output_type": "stream",
          "text": [
            "INFO:tensorflow:Assets written to: /var/folders/km/k1t_66r11l9b1dgwdbhqdh880000gn/T/tmpbh4zcnty/assets\n"
          ]
        },
        {
          "name": "stderr",
          "output_type": "stream",
          "text": [
            "INFO:tensorflow:Assets written to: /var/folders/km/k1t_66r11l9b1dgwdbhqdh880000gn/T/tmpbh4zcnty/assets\n",
            "2022-03-28 12:05:01.062164: W tensorflow/compiler/mlir/lite/python/tf_tfl_flatbuffer_helpers.cc:357] Ignored output_format.\n",
            "2022-03-28 12:05:01.062186: W tensorflow/compiler/mlir/lite/python/tf_tfl_flatbuffer_helpers.cc:360] Ignored drop_control_dependency.\n",
            "WARNING:absl:Buffer deduplication procedure will be skipped when flatbuffer library is not properly loaded\n",
            "2022-03-28 12:05:01.062330: I tensorflow/cc/saved_model/reader.cc:43] Reading SavedModel from: /var/folders/km/k1t_66r11l9b1dgwdbhqdh880000gn/T/tmpbh4zcnty\n",
            "2022-03-28 12:05:01.064282: I tensorflow/cc/saved_model/reader.cc:78] Reading meta graph with tags { serve }\n",
            "2022-03-28 12:05:01.064305: I tensorflow/cc/saved_model/reader.cc:119] Reading SavedModel debug info (if present) from: /var/folders/km/k1t_66r11l9b1dgwdbhqdh880000gn/T/tmpbh4zcnty\n",
            "2022-03-28 12:05:01.072063: I tensorflow/cc/saved_model/loader.cc:228] Restoring SavedModel bundle.\n",
            "2022-03-28 12:05:01.123951: I tensorflow/cc/saved_model/loader.cc:212] Running initialization op on SavedModel bundle at path: /var/folders/km/k1t_66r11l9b1dgwdbhqdh880000gn/T/tmpbh4zcnty\n",
            "2022-03-28 12:05:01.141379: I tensorflow/cc/saved_model/loader.cc:301] SavedModel load for tags { serve }; Status: success: OK. Took 79049 microseconds.\n",
            "2022-03-28 12:05:01.199778: I tensorflow/lite/tools/optimize/quantize_weights.cc:225] Skipping quantization of tensor sequential_2/dense_6/MatMul because it has fewer than 1024 elements (840).\n",
            "2022-03-28 12:05:01.199793: I tensorflow/lite/tools/optimize/quantize_weights.cc:225] Skipping quantization of tensor sequential_2/dense_7/MatMul because it has fewer than 1024 elements (200).\n",
            "2022-03-28 12:05:01.199798: I tensorflow/lite/tools/optimize/quantize_weights.cc:225] Skipping quantization of tensor sequential_2/dense_8/MatMul because it has fewer than 1024 elements (30).\n"
          ]
        },
        {
          "data": {
            "text/plain": [
              "6384"
            ]
          },
          "execution_count": 56,
          "metadata": {},
          "output_type": "execute_result"
        }
      ],
      "source": [
        "# Transform model (quantization)\n",
        "\n",
        "converter = tf.lite.TFLiteConverter.from_keras_model(model)\n",
        "converter.optimizations = [tf.lite.Optimize.DEFAULT]\n",
        "tflite_quantized_model = converter.convert()\n",
        "\n",
        "open(tflite_save_path, 'wb').write(tflite_quantized_model)"
      ]
    },
    {
      "cell_type": "markdown",
      "metadata": {
        "id": "CHBPBXdx9hE6"
      },
      "source": [
        "# Inference test"
      ]
    },
    {
      "cell_type": "code",
      "execution_count": 57,
      "metadata": {
        "id": "mGAzLocO9hE7"
      },
      "outputs": [],
      "source": [
        "interpreter = tf.lite.Interpreter(model_path=tflite_save_path)\n",
        "interpreter.allocate_tensors()"
      ]
    },
    {
      "cell_type": "code",
      "execution_count": 58,
      "metadata": {
        "id": "oQuDK8YS9hE7"
      },
      "outputs": [],
      "source": [
        "# Get I / O tensor\n",
        "input_details = interpreter.get_input_details()\n",
        "output_details = interpreter.get_output_details()"
      ]
    },
    {
      "cell_type": "code",
      "execution_count": 59,
      "metadata": {
        "id": "2_ixAf_l9hE7"
      },
      "outputs": [],
      "source": [
        "interpreter.set_tensor(input_details[0]['index'], np.array([X_test[0]]))"
      ]
    },
    {
      "cell_type": "code",
      "execution_count": 60,
      "metadata": {
        "colab": {
          "base_uri": "https://localhost:8080/"
        },
        "id": "s4FoAnuc9hE7",
        "outputId": "91f18257-8d8b-4ef3-c558-e9b5f94fabbf",
        "scrolled": true
      },
      "outputs": [
        {
          "name": "stdout",
          "output_type": "stream",
          "text": [
            "CPU times: user 107 µs, sys: 59 µs, total: 166 µs\n",
            "Wall time: 129 µs\n"
          ]
        }
      ],
      "source": [
        "%%time\n",
        "# Inference implementation\n",
        "interpreter.invoke()\n",
        "tflite_results = interpreter.get_tensor(output_details[0]['index'])"
      ]
    },
    {
      "cell_type": "code",
      "execution_count": 61,
      "metadata": {
        "colab": {
          "base_uri": "https://localhost:8080/"
        },
        "id": "vONjp19J9hE8",
        "outputId": "77205e24-fd00-42c4-f7b6-e06e527c2cba"
      },
      "outputs": [
        {
          "name": "stdout",
          "output_type": "stream",
          "text": [
            "[1.0000000e+00 1.9148920e-09 1.0957907e-08]\n",
            "0\n"
          ]
        }
      ],
      "source": [
        "print(np.squeeze(tflite_results))\n",
        "print(np.argmax(np.squeeze(tflite_results)))"
      ]
    }
  ],
  "metadata": {
    "accelerator": "GPU",
    "colab": {
      "collapsed_sections": [],
      "name": "keypoint_classification_EN.ipynb",
      "provenance": [],
      "toc_visible": true
    },
    "kernelspec": {
      "display_name": "Python 3",
      "language": "python",
      "name": "python3"
    },
    "language_info": {
      "codemirror_mode": {
        "name": "ipython",
        "version": 3
      },
      "file_extension": ".py",
      "mimetype": "text/x-python",
      "name": "python",
      "nbconvert_exporter": "python",
      "pygments_lexer": "ipython3",
      "version": "3.10.1"
    }
  },
  "nbformat": 4,
  "nbformat_minor": 0
}
